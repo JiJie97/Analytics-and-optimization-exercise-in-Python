{
 "cells": [
  {
   "cell_type": "markdown",
   "metadata": {},
   "source": [
    "# Session 8: Manipulating Data\n",
    "\n",
    "## 1. Descriptive Statistics"
   ]
  },
  {
   "cell_type": "code",
   "execution_count": 2,
   "metadata": {},
   "outputs": [
    {
     "data": {
      "text/html": [
       "<div>\n",
       "<style scoped>\n",
       "    .dataframe tbody tr th:only-of-type {\n",
       "        vertical-align: middle;\n",
       "    }\n",
       "\n",
       "    .dataframe tbody tr th {\n",
       "        vertical-align: top;\n",
       "    }\n",
       "\n",
       "    .dataframe thead th {\n",
       "        text-align: right;\n",
       "    }\n",
       "</style>\n",
       "<table border=\"1\" class=\"dataframe\">\n",
       "  <thead>\n",
       "    <tr style=\"text-align: right;\">\n",
       "      <th></th>\n",
       "      <th>week</th>\n",
       "      <th>GTIN</th>\n",
       "      <th>description</th>\n",
       "      <th>ounces</th>\n",
       "      <th>revenue</th>\n",
       "      <th>sold</th>\n",
       "      <th>average_price</th>\n",
       "    </tr>\n",
       "  </thead>\n",
       "  <tbody>\n",
       "    <tr>\n",
       "      <th>0</th>\n",
       "      <td>2017-12-31</td>\n",
       "      <td>28400596001</td>\n",
       "      <td>CHESTERS CORN &amp; POTATO SNACK FLAMIN HOT</td>\n",
       "      <td>5.500</td>\n",
       "      <td>9763.00</td>\n",
       "      <td>4882</td>\n",
       "      <td>1.999795</td>\n",
       "    </tr>\n",
       "    <tr>\n",
       "      <th>1</th>\n",
       "      <td>2017-12-31</td>\n",
       "      <td>28400087691</td>\n",
       "      <td>CHESTERS CORN &amp; POTATO SNACK FLAMIN HOT</td>\n",
       "      <td>1.125</td>\n",
       "      <td>77.50</td>\n",
       "      <td>155</td>\n",
       "      <td>0.500000</td>\n",
       "    </tr>\n",
       "    <tr>\n",
       "      <th>2</th>\n",
       "      <td>2017-12-31</td>\n",
       "      <td>28400437741</td>\n",
       "      <td>CHESTERS CORN &amp; POTATO SNACK FLAMIN HOT</td>\n",
       "      <td>4.000</td>\n",
       "      <td>2834.13</td>\n",
       "      <td>1677</td>\n",
       "      <td>1.690000</td>\n",
       "    </tr>\n",
       "    <tr>\n",
       "      <th>3</th>\n",
       "      <td>2017-12-31</td>\n",
       "      <td>28400190801</td>\n",
       "      <td>SABRITONES WHEAT SNACK CHILI &amp; LIME</td>\n",
       "      <td>4.250</td>\n",
       "      <td>446.00</td>\n",
       "      <td>223</td>\n",
       "      <td>2.000000</td>\n",
       "    </tr>\n",
       "    <tr>\n",
       "      <th>4</th>\n",
       "      <td>2017-12-31</td>\n",
       "      <td>28400183902</td>\n",
       "      <td>CHEETOS CHEESE SNACK CHEESE 50% LESS FAT</td>\n",
       "      <td>7.625</td>\n",
       "      <td>1872.30</td>\n",
       "      <td>572</td>\n",
       "      <td>3.273252</td>\n",
       "    </tr>\n",
       "  </tbody>\n",
       "</table>\n",
       "</div>"
      ],
      "text/plain": [
       "         week         GTIN                               description  ounces  \\\n",
       "0  2017-12-31  28400596001   CHESTERS CORN & POTATO SNACK FLAMIN HOT   5.500   \n",
       "1  2017-12-31  28400087691   CHESTERS CORN & POTATO SNACK FLAMIN HOT   1.125   \n",
       "2  2017-12-31  28400437741   CHESTERS CORN & POTATO SNACK FLAMIN HOT   4.000   \n",
       "3  2017-12-31  28400190801       SABRITONES WHEAT SNACK CHILI & LIME   4.250   \n",
       "4  2017-12-31  28400183902  CHEETOS CHEESE SNACK CHEESE 50% LESS FAT   7.625   \n",
       "\n",
       "   revenue  sold  average_price  \n",
       "0  9763.00  4882       1.999795  \n",
       "1    77.50   155       0.500000  \n",
       "2  2834.13  1677       1.690000  \n",
       "3   446.00   223       2.000000  \n",
       "4  1872.30   572       3.273252  "
      ]
     },
     "execution_count": 2,
     "metadata": {},
     "output_type": "execute_result"
    }
   ],
   "source": [
    "import pandas as pd\n",
    "sales=pd.read_csv('RalphsIRI-cleaned.csv.gz')\n",
    "sales.head()"
   ]
  },
  {
   "cell_type": "code",
   "execution_count": 2,
   "metadata": {},
   "outputs": [
    {
     "data": {
      "text/plain": [
       "(14129, 7)"
      ]
     },
     "execution_count": 2,
     "metadata": {},
     "output_type": "execute_result"
    }
   ],
   "source": [
    "sales.shape"
   ]
  },
  {
   "cell_type": "code",
   "execution_count": 3,
   "metadata": {},
   "outputs": [
    {
     "data": {
      "text/plain": [
       "14129"
      ]
     },
     "execution_count": 3,
     "metadata": {},
     "output_type": "execute_result"
    }
   ],
   "source": [
    "len(sales)"
   ]
  },
  {
   "cell_type": "code",
   "execution_count": 4,
   "metadata": {},
   "outputs": [
    {
     "name": "stdout",
     "output_type": "stream",
     "text": [
      "<class 'pandas.core.frame.DataFrame'>\n",
      "RangeIndex: 14129 entries, 0 to 14128\n",
      "Data columns (total 7 columns):\n",
      "week             14129 non-null object\n",
      "GTIN             14129 non-null int64\n",
      "description      14129 non-null object\n",
      "ounces           14078 non-null float64\n",
      "revenue          14129 non-null float64\n",
      "sold             14129 non-null int64\n",
      "average_price    14129 non-null float64\n",
      "dtypes: float64(3), int64(2), object(2)\n",
      "memory usage: 772.8+ KB\n"
     ]
    }
   ],
   "source": [
    "sales.info()"
   ]
  },
  {
   "cell_type": "code",
   "execution_count": 5,
   "metadata": {},
   "outputs": [
    {
     "name": "stdout",
     "output_type": "stream",
     "text": [
      "<class 'pandas.core.frame.DataFrame'>\n",
      "RangeIndex: 14129 entries, 0 to 14128\n",
      "Data columns (total 7 columns):\n",
      "week             14129 non-null datetime64[ns]\n",
      "GTIN             14129 non-null int64\n",
      "description      14129 non-null object\n",
      "ounces           14078 non-null float64\n",
      "revenue          14129 non-null float64\n",
      "sold             14129 non-null int64\n",
      "average_price    14129 non-null float64\n",
      "dtypes: datetime64[ns](1), float64(3), int64(2), object(1)\n",
      "memory usage: 772.8+ KB\n"
     ]
    }
   ],
   "source": [
    "sales['week']=pd.to_datetime(sales['week'])\n",
    "sales.info()"
   ]
  },
  {
   "cell_type": "code",
   "execution_count": 6,
   "metadata": {},
   "outputs": [
    {
     "data": {
      "text/html": [
       "<div>\n",
       "<style scoped>\n",
       "    .dataframe tbody tr th:only-of-type {\n",
       "        vertical-align: middle;\n",
       "    }\n",
       "\n",
       "    .dataframe tbody tr th {\n",
       "        vertical-align: top;\n",
       "    }\n",
       "\n",
       "    .dataframe thead th {\n",
       "        text-align: right;\n",
       "    }\n",
       "</style>\n",
       "<table border=\"1\" class=\"dataframe\">\n",
       "  <thead>\n",
       "    <tr style=\"text-align: right;\">\n",
       "      <th></th>\n",
       "      <th>GTIN</th>\n",
       "      <th>ounces</th>\n",
       "      <th>revenue</th>\n",
       "      <th>sold</th>\n",
       "      <th>average_price</th>\n",
       "    </tr>\n",
       "  </thead>\n",
       "  <tbody>\n",
       "    <tr>\n",
       "      <th>count</th>\n",
       "      <td>1.412900e+04</td>\n",
       "      <td>14078.000000</td>\n",
       "      <td>14129.000000</td>\n",
       "      <td>14129.000000</td>\n",
       "      <td>14129.000000</td>\n",
       "    </tr>\n",
       "    <tr>\n",
       "      <th>mean</th>\n",
       "      <td>2.873476e+10</td>\n",
       "      <td>7.602797</td>\n",
       "      <td>4594.782186</td>\n",
       "      <td>1620.759856</td>\n",
       "      <td>2.866945</td>\n",
       "    </tr>\n",
       "    <tr>\n",
       "      <th>std</th>\n",
       "      <td>1.622473e+10</td>\n",
       "      <td>4.389907</td>\n",
       "      <td>7633.994698</td>\n",
       "      <td>2764.051875</td>\n",
       "      <td>1.503567</td>\n",
       "    </tr>\n",
       "    <tr>\n",
       "      <th>min</th>\n",
       "      <td>2.840000e+10</td>\n",
       "      <td>0.750000</td>\n",
       "      <td>0.300000</td>\n",
       "      <td>1.000000</td>\n",
       "      <td>0.300000</td>\n",
       "    </tr>\n",
       "    <tr>\n",
       "      <th>25%</th>\n",
       "      <td>2.840015e+10</td>\n",
       "      <td>4.125000</td>\n",
       "      <td>153.090000</td>\n",
       "      <td>74.000000</td>\n",
       "      <td>1.890000</td>\n",
       "    </tr>\n",
       "    <tr>\n",
       "      <th>50%</th>\n",
       "      <td>2.840037e+10</td>\n",
       "      <td>7.750000</td>\n",
       "      <td>1708.120000</td>\n",
       "      <td>657.000000</td>\n",
       "      <td>2.661667</td>\n",
       "    </tr>\n",
       "    <tr>\n",
       "      <th>75%</th>\n",
       "      <td>2.840063e+10</td>\n",
       "      <td>9.500000</td>\n",
       "      <td>5538.600000</td>\n",
       "      <td>1896.000000</td>\n",
       "      <td>3.293012</td>\n",
       "    </tr>\n",
       "    <tr>\n",
       "      <th>max</th>\n",
       "      <td>8.158710e+11</td>\n",
       "      <td>27.250000</td>\n",
       "      <td>82078.190000</td>\n",
       "      <td>38289.000000</td>\n",
       "      <td>13.990000</td>\n",
       "    </tr>\n",
       "  </tbody>\n",
       "</table>\n",
       "</div>"
      ],
      "text/plain": [
       "               GTIN        ounces       revenue          sold  average_price\n",
       "count  1.412900e+04  14078.000000  14129.000000  14129.000000   14129.000000\n",
       "mean   2.873476e+10      7.602797   4594.782186   1620.759856       2.866945\n",
       "std    1.622473e+10      4.389907   7633.994698   2764.051875       1.503567\n",
       "min    2.840000e+10      0.750000      0.300000      1.000000       0.300000\n",
       "25%    2.840015e+10      4.125000    153.090000     74.000000       1.890000\n",
       "50%    2.840037e+10      7.750000   1708.120000    657.000000       2.661667\n",
       "75%    2.840063e+10      9.500000   5538.600000   1896.000000       3.293012\n",
       "max    8.158710e+11     27.250000  82078.190000  38289.000000      13.990000"
      ]
     },
     "execution_count": 6,
     "metadata": {},
     "output_type": "execute_result"
    }
   ],
   "source": [
    "sales.describe()"
   ]
  },
  {
   "cell_type": "code",
   "execution_count": 7,
   "metadata": {},
   "outputs": [
    {
     "data": {
      "text/plain": [
       "Index(['week', 'GTIN', 'description', 'ounces', 'revenue', 'sold',\n",
       "       'average_price'],\n",
       "      dtype='object')"
      ]
     },
     "execution_count": 7,
     "metadata": {},
     "output_type": "execute_result"
    }
   ],
   "source": [
    "sales.columns"
   ]
  },
  {
   "cell_type": "code",
   "execution_count": 8,
   "metadata": {},
   "outputs": [
    {
     "data": {
      "text/plain": [
       "RangeIndex(start=0, stop=14129, step=1)"
      ]
     },
     "execution_count": 8,
     "metadata": {},
     "output_type": "execute_result"
    }
   ],
   "source": [
    "sales.index"
   ]
  },
  {
   "cell_type": "markdown",
   "metadata": {},
   "source": [
    "**Q1:** Type in the above commands and explain to your neighbor what you can learn from the outputs."
   ]
  },
  {
   "cell_type": "markdown",
   "metadata": {},
   "source": [
    "## 2. Zooming in to Examine a Small Piece"
   ]
  },
  {
   "cell_type": "code",
   "execution_count": 9,
   "metadata": {},
   "outputs": [
    {
     "data": {
      "text/plain": [
       "GTIN\n",
       "28400002105    317433.32\n",
       "28400002114    253299.73\n",
       "28400002266    504977.76\n",
       "28400002284    124907.61\n",
       "28400002294    179492.13\n",
       "Name: revenue, dtype: float64"
      ]
     },
     "execution_count": 9,
     "metadata": {},
     "output_type": "execute_result"
    }
   ],
   "source": [
    "sales.groupby('GTIN')['revenue'].sum().head()"
   ]
  },
  {
   "cell_type": "code",
   "execution_count": 10,
   "metadata": {},
   "outputs": [
    {
     "data": {
      "text/plain": [
       "GTIN\n",
       "28400642031    2735406.59\n",
       "28400154431    1862912.68\n",
       "28400589891    1815165.97\n",
       "28400645491    1740759.67\n",
       "28400154401    1591435.49\n",
       "Name: revenue, dtype: float64"
      ]
     },
     "execution_count": 10,
     "metadata": {},
     "output_type": "execute_result"
    }
   ],
   "source": [
    "sales.groupby('GTIN')['revenue'].sum().sort_values(ascending=False).head()"
   ]
  },
  {
   "cell_type": "code",
   "execution_count": 3,
   "metadata": {},
   "outputs": [
    {
     "data": {
      "text/html": [
       "<div>\n",
       "<style scoped>\n",
       "    .dataframe tbody tr th:only-of-type {\n",
       "        vertical-align: middle;\n",
       "    }\n",
       "\n",
       "    .dataframe tbody tr th {\n",
       "        vertical-align: top;\n",
       "    }\n",
       "\n",
       "    .dataframe thead th {\n",
       "        text-align: right;\n",
       "    }\n",
       "</style>\n",
       "<table border=\"1\" class=\"dataframe\">\n",
       "  <thead>\n",
       "    <tr style=\"text-align: right;\">\n",
       "      <th></th>\n",
       "      <th>GTIN</th>\n",
       "      <th>description</th>\n",
       "      <th>ounces</th>\n",
       "      <th>revenue</th>\n",
       "      <th>sold</th>\n",
       "      <th>average_price</th>\n",
       "    </tr>\n",
       "    <tr>\n",
       "      <th>week</th>\n",
       "      <th></th>\n",
       "      <th></th>\n",
       "      <th></th>\n",
       "      <th></th>\n",
       "      <th></th>\n",
       "      <th></th>\n",
       "    </tr>\n",
       "  </thead>\n",
       "  <tbody>\n",
       "    <tr>\n",
       "      <th>2017-12-31</th>\n",
       "      <td>28400642031</td>\n",
       "      <td>DORITOS TORTILLA CHIP NACHO CHEESE</td>\n",
       "      <td>9.75</td>\n",
       "      <td>51815.92</td>\n",
       "      <td>18555</td>\n",
       "      <td>2.792558</td>\n",
       "    </tr>\n",
       "    <tr>\n",
       "      <th>2018-01-07</th>\n",
       "      <td>28400642031</td>\n",
       "      <td>DORITOS TORTILLA CHIP NACHO CHEESE</td>\n",
       "      <td>9.75</td>\n",
       "      <td>65611.04</td>\n",
       "      <td>24724</td>\n",
       "      <td>2.653739</td>\n",
       "    </tr>\n",
       "    <tr>\n",
       "      <th>2018-01-14</th>\n",
       "      <td>28400642031</td>\n",
       "      <td>DORITOS TORTILLA CHIP NACHO CHEESE</td>\n",
       "      <td>9.75</td>\n",
       "      <td>57992.27</td>\n",
       "      <td>23397</td>\n",
       "      <td>2.478620</td>\n",
       "    </tr>\n",
       "    <tr>\n",
       "      <th>2018-01-21</th>\n",
       "      <td>28400642031</td>\n",
       "      <td>DORITOS TORTILLA CHIP NACHO CHEESE</td>\n",
       "      <td>9.75</td>\n",
       "      <td>49475.77</td>\n",
       "      <td>19284</td>\n",
       "      <td>2.565638</td>\n",
       "    </tr>\n",
       "    <tr>\n",
       "      <th>2018-01-28</th>\n",
       "      <td>28400642031</td>\n",
       "      <td>DORITOS TORTILLA CHIP NACHO CHEESE</td>\n",
       "      <td>9.75</td>\n",
       "      <td>54427.00</td>\n",
       "      <td>23012</td>\n",
       "      <td>2.365157</td>\n",
       "    </tr>\n",
       "  </tbody>\n",
       "</table>\n",
       "</div>"
      ],
      "text/plain": [
       "                   GTIN                         description  ounces   revenue  \\\n",
       "week                                                                            \n",
       "2017-12-31  28400642031  DORITOS TORTILLA CHIP NACHO CHEESE    9.75  51815.92   \n",
       "2018-01-07  28400642031  DORITOS TORTILLA CHIP NACHO CHEESE    9.75  65611.04   \n",
       "2018-01-14  28400642031  DORITOS TORTILLA CHIP NACHO CHEESE    9.75  57992.27   \n",
       "2018-01-21  28400642031  DORITOS TORTILLA CHIP NACHO CHEESE    9.75  49475.77   \n",
       "2018-01-28  28400642031  DORITOS TORTILLA CHIP NACHO CHEESE    9.75  54427.00   \n",
       "\n",
       "             sold  average_price  \n",
       "week                              \n",
       "2017-12-31  18555       2.792558  \n",
       "2018-01-07  24724       2.653739  \n",
       "2018-01-14  23397       2.478620  \n",
       "2018-01-21  19284       2.565638  \n",
       "2018-01-28  23012       2.365157  "
      ]
     },
     "execution_count": 3,
     "metadata": {},
     "output_type": "execute_result"
    }
   ],
   "source": [
    "gtin=28400642031\n",
    "small=sales.query('GTIN==@gtin').set_index('week')\n",
    "small.head()"
   ]
  },
  {
   "cell_type": "code",
   "execution_count": 12,
   "metadata": {},
   "outputs": [
    {
     "data": {
      "text/html": [
       "<div>\n",
       "<style scoped>\n",
       "    .dataframe tbody tr th:only-of-type {\n",
       "        vertical-align: middle;\n",
       "    }\n",
       "\n",
       "    .dataframe tbody tr th {\n",
       "        vertical-align: top;\n",
       "    }\n",
       "\n",
       "    .dataframe thead th {\n",
       "        text-align: right;\n",
       "    }\n",
       "</style>\n",
       "<table border=\"1\" class=\"dataframe\">\n",
       "  <thead>\n",
       "    <tr style=\"text-align: right;\">\n",
       "      <th></th>\n",
       "      <th>GTIN</th>\n",
       "      <th>description</th>\n",
       "      <th>ounces</th>\n",
       "      <th>revenue</th>\n",
       "      <th>sold</th>\n",
       "      <th>average_price</th>\n",
       "    </tr>\n",
       "    <tr>\n",
       "      <th>week</th>\n",
       "      <th></th>\n",
       "      <th></th>\n",
       "      <th></th>\n",
       "      <th></th>\n",
       "      <th></th>\n",
       "      <th></th>\n",
       "    </tr>\n",
       "  </thead>\n",
       "  <tbody>\n",
       "    <tr>\n",
       "      <th>2017-12-31</th>\n",
       "      <td>28400642031</td>\n",
       "      <td>DORITOS TORTILLA CHIP NACHO CHEESE</td>\n",
       "      <td>9.75</td>\n",
       "      <td>51815.92</td>\n",
       "      <td>18555</td>\n",
       "      <td>2.792558</td>\n",
       "    </tr>\n",
       "    <tr>\n",
       "      <th>2018-01-07</th>\n",
       "      <td>28400642031</td>\n",
       "      <td>DORITOS TORTILLA CHIP NACHO CHEESE</td>\n",
       "      <td>9.75</td>\n",
       "      <td>65611.04</td>\n",
       "      <td>24724</td>\n",
       "      <td>2.653739</td>\n",
       "    </tr>\n",
       "    <tr>\n",
       "      <th>2018-01-14</th>\n",
       "      <td>28400642031</td>\n",
       "      <td>DORITOS TORTILLA CHIP NACHO CHEESE</td>\n",
       "      <td>9.75</td>\n",
       "      <td>57992.27</td>\n",
       "      <td>23397</td>\n",
       "      <td>2.478620</td>\n",
       "    </tr>\n",
       "    <tr>\n",
       "      <th>2018-01-21</th>\n",
       "      <td>28400642031</td>\n",
       "      <td>DORITOS TORTILLA CHIP NACHO CHEESE</td>\n",
       "      <td>9.75</td>\n",
       "      <td>49475.77</td>\n",
       "      <td>19284</td>\n",
       "      <td>2.565638</td>\n",
       "    </tr>\n",
       "    <tr>\n",
       "      <th>2018-01-28</th>\n",
       "      <td>28400642031</td>\n",
       "      <td>DORITOS TORTILLA CHIP NACHO CHEESE</td>\n",
       "      <td>9.75</td>\n",
       "      <td>54427.00</td>\n",
       "      <td>23012</td>\n",
       "      <td>2.365157</td>\n",
       "    </tr>\n",
       "  </tbody>\n",
       "</table>\n",
       "</div>"
      ],
      "text/plain": [
       "                   GTIN                         description  ounces   revenue  \\\n",
       "week                                                                            \n",
       "2017-12-31  28400642031  DORITOS TORTILLA CHIP NACHO CHEESE    9.75  51815.92   \n",
       "2018-01-07  28400642031  DORITOS TORTILLA CHIP NACHO CHEESE    9.75  65611.04   \n",
       "2018-01-14  28400642031  DORITOS TORTILLA CHIP NACHO CHEESE    9.75  57992.27   \n",
       "2018-01-21  28400642031  DORITOS TORTILLA CHIP NACHO CHEESE    9.75  49475.77   \n",
       "2018-01-28  28400642031  DORITOS TORTILLA CHIP NACHO CHEESE    9.75  54427.00   \n",
       "\n",
       "             sold  average_price  \n",
       "week                              \n",
       "2017-12-31  18555       2.792558  \n",
       "2018-01-07  24724       2.653739  \n",
       "2018-01-14  23397       2.478620  \n",
       "2018-01-21  19284       2.565638  \n",
       "2018-01-28  23012       2.365157  "
      ]
     },
     "execution_count": 12,
     "metadata": {},
     "output_type": "execute_result"
    }
   ],
   "source": [
    "# Alternative\n",
    "small=sales[sales['GTIN']==gtin].set_index('week')\n",
    "small.head()"
   ]
  },
  {
   "cell_type": "code",
   "execution_count": 4,
   "metadata": {},
   "outputs": [
    {
     "data": {
      "image/png": "[encoded data removed]",
      "text/plain": [
       "<Figure size 720x720 with 5 Axes>"
      ]
     },
     "metadata": {
      "needs_background": "light"
     },
     "output_type": "display_data"
    }
   ],
   "source": [
    "import matplotlib.pyplot as plt\n",
    "small.plot(subplots=True,figsize=(10,10))\n",
    "plt.show()"
   ]
  },
  {
   "cell_type": "code",
   "execution_count": 14,
   "metadata": {},
   "outputs": [
    {
     "data": {
      "text/plain": [
       "<matplotlib.axes._subplots.AxesSubplot at 0x7f7653734908>"
      ]
     },
     "execution_count": 14,
     "metadata": {},
     "output_type": "execute_result"
    },
    {
     "data": {
      "image/png": "[encoded data removed]",
      "text/plain": [
       "<Figure size 432x288 with 1 Axes>"
      ]
     },
     "metadata": {
      "needs_background": "light"
     },
     "output_type": "display_data"
    }
   ],
   "source": [
    "small.plot(x='average_price',y='sold',kind='scatter')"
   ]
  },
  {
   "cell_type": "markdown",
   "metadata": {},
   "source": [
    "**Q2:** Find the product with the highest average price (unweighted average across the data set) and plot the revenue, units sold, and average price over time."
   ]
  },
  {
   "cell_type": "markdown",
   "metadata": {},
   "source": [
    "## 3. Grouping and Aggregating the Data"
   ]
  },
  {
   "cell_type": "code",
   "execution_count": 19,
   "metadata": {},
   "outputs": [
    {
     "data": {
      "text/html": [
       "<div>\n",
       "<style scoped>\n",
       "    .dataframe tbody tr th:only-of-type {\n",
       "        vertical-align: middle;\n",
       "    }\n",
       "\n",
       "    .dataframe tbody tr th {\n",
       "        vertical-align: top;\n",
       "    }\n",
       "\n",
       "    .dataframe thead th {\n",
       "        text-align: right;\n",
       "    }\n",
       "</style>\n",
       "<table border=\"1\" class=\"dataframe\">\n",
       "  <thead>\n",
       "    <tr style=\"text-align: right;\">\n",
       "      <th></th>\n",
       "      <th>GTIN</th>\n",
       "      <th>description</th>\n",
       "      <th>ounces</th>\n",
       "      <th>revenue</th>\n",
       "      <th>sold</th>\n",
       "      <th>average_price</th>\n",
       "    </tr>\n",
       "  </thead>\n",
       "  <tbody>\n",
       "    <tr>\n",
       "      <th>0</th>\n",
       "      <td>28400642031</td>\n",
       "      <td>DORITOS TORTILLA CHIP NACHO CHEESE</td>\n",
       "      <td>9.75</td>\n",
       "      <td>2735406.59</td>\n",
       "      <td>1046022</td>\n",
       "      <td>2.615056</td>\n",
       "    </tr>\n",
       "    <tr>\n",
       "      <th>1</th>\n",
       "      <td>28400154431</td>\n",
       "      <td>ALL FRITO LAY PRODUCTS ASTSS SALTED SNACKS ASS...</td>\n",
       "      <td>18.00</td>\n",
       "      <td>1862912.68</td>\n",
       "      <td>269550</td>\n",
       "      <td>6.911195</td>\n",
       "    </tr>\n",
       "    <tr>\n",
       "      <th>2</th>\n",
       "      <td>28400589891</td>\n",
       "      <td>CHEETOS CHEESE SNACK FLAMIN HOT</td>\n",
       "      <td>8.50</td>\n",
       "      <td>1815165.97</td>\n",
       "      <td>680959</td>\n",
       "      <td>2.665602</td>\n",
       "    </tr>\n",
       "    <tr>\n",
       "      <th>3</th>\n",
       "      <td>28400645491</td>\n",
       "      <td>LAYS POTATO CHIP CLASSIC</td>\n",
       "      <td>10.00</td>\n",
       "      <td>1740759.67</td>\n",
       "      <td>665793</td>\n",
       "      <td>2.614566</td>\n",
       "    </tr>\n",
       "    <tr>\n",
       "      <th>4</th>\n",
       "      <td>28400154401</td>\n",
       "      <td>ALL FRITO LAY PRODUCTS ASTSS SALTED SNACKS ASS...</td>\n",
       "      <td>18.00</td>\n",
       "      <td>1591435.49</td>\n",
       "      <td>230412</td>\n",
       "      <td>6.906912</td>\n",
       "    </tr>\n",
       "  </tbody>\n",
       "</table>\n",
       "</div>"
      ],
      "text/plain": [
       "          GTIN                                        description  ounces  \\\n",
       "0  28400642031                 DORITOS TORTILLA CHIP NACHO CHEESE    9.75   \n",
       "1  28400154431  ALL FRITO LAY PRODUCTS ASTSS SALTED SNACKS ASS...   18.00   \n",
       "2  28400589891                    CHEETOS CHEESE SNACK FLAMIN HOT    8.50   \n",
       "3  28400645491                           LAYS POTATO CHIP CLASSIC   10.00   \n",
       "4  28400154401  ALL FRITO LAY PRODUCTS ASTSS SALTED SNACKS ASS...   18.00   \n",
       "\n",
       "      revenue     sold  average_price  \n",
       "0  2735406.59  1046022       2.615056  \n",
       "1  1862912.68   269550       6.911195  \n",
       "2  1815165.97   680959       2.665602  \n",
       "3  1740759.67   665793       2.614566  \n",
       "4  1591435.49   230412       6.906912  "
      ]
     },
     "execution_count": 19,
     "metadata": {},
     "output_type": "execute_result"
    }
   ],
   "source": [
    "products=sales.groupby('GTIN')\\\n",
    "    .agg({'description':'first','ounces':'first','revenue':'sum','sold':'sum'})\n",
    "products['average_price']=products['revenue']/products['sold']\n",
    "products=products.sort_values(by='revenue',ascending=False).reset_index()\n",
    "products.head()"
   ]
  },
  {
   "cell_type": "code",
   "execution_count": 20,
   "metadata": {},
   "outputs": [
    {
     "data": {
      "text/plain": [
       "(394, 6)"
      ]
     },
     "execution_count": 20,
     "metadata": {},
     "output_type": "execute_result"
    }
   ],
   "source": [
    "products.shape"
   ]
  },
  {
   "cell_type": "code",
   "execution_count": 21,
   "metadata": {},
   "outputs": [
    {
     "data": {
      "text/plain": [
       "array([[<matplotlib.axes._subplots.AxesSubplot object at 0x7f7653568208>]],\n",
       "      dtype=object)"
      ]
     },
     "execution_count": 21,
     "metadata": {},
     "output_type": "execute_result"
    },
    {
     "data": {
      "image/png": "[encoded data removed]",
      "text/plain": [
       "<Figure size 432x288 with 1 Axes>"
      ]
     },
     "metadata": {
      "needs_background": "light"
     },
     "output_type": "display_data"
    }
   ],
   "source": [
    "products.hist('revenue',bins=20)"
   ]
  },
  {
   "cell_type": "code",
   "execution_count": 22,
   "metadata": {},
   "outputs": [
    {
     "data": {
      "text/html": [
       "<div>\n",
       "<style scoped>\n",
       "    .dataframe tbody tr th:only-of-type {\n",
       "        vertical-align: middle;\n",
       "    }\n",
       "\n",
       "    .dataframe tbody tr th {\n",
       "        vertical-align: top;\n",
       "    }\n",
       "\n",
       "    .dataframe thead th {\n",
       "        text-align: right;\n",
       "    }\n",
       "</style>\n",
       "<table border=\"1\" class=\"dataframe\">\n",
       "  <thead>\n",
       "    <tr style=\"text-align: right;\">\n",
       "      <th></th>\n",
       "      <th>GTIN</th>\n",
       "      <th>description</th>\n",
       "      <th>ounces</th>\n",
       "      <th>revenue</th>\n",
       "      <th>sold</th>\n",
       "      <th>average_price</th>\n",
       "      <th>revenue_share</th>\n",
       "    </tr>\n",
       "  </thead>\n",
       "  <tbody>\n",
       "    <tr>\n",
       "      <th>0</th>\n",
       "      <td>28400642031</td>\n",
       "      <td>DORITOS TORTILLA CHIP NACHO CHEESE</td>\n",
       "      <td>9.75</td>\n",
       "      <td>2735406.59</td>\n",
       "      <td>1046022</td>\n",
       "      <td>2.615056</td>\n",
       "      <td>0.042135</td>\n",
       "    </tr>\n",
       "    <tr>\n",
       "      <th>1</th>\n",
       "      <td>28400154431</td>\n",
       "      <td>ALL FRITO LAY PRODUCTS ASTSS SALTED SNACKS ASS...</td>\n",
       "      <td>18.00</td>\n",
       "      <td>1862912.68</td>\n",
       "      <td>269550</td>\n",
       "      <td>6.911195</td>\n",
       "      <td>0.028696</td>\n",
       "    </tr>\n",
       "    <tr>\n",
       "      <th>2</th>\n",
       "      <td>28400589891</td>\n",
       "      <td>CHEETOS CHEESE SNACK FLAMIN HOT</td>\n",
       "      <td>8.50</td>\n",
       "      <td>1815165.97</td>\n",
       "      <td>680959</td>\n",
       "      <td>2.665602</td>\n",
       "      <td>0.027960</td>\n",
       "    </tr>\n",
       "    <tr>\n",
       "      <th>3</th>\n",
       "      <td>28400645491</td>\n",
       "      <td>LAYS POTATO CHIP CLASSIC</td>\n",
       "      <td>10.00</td>\n",
       "      <td>1740759.67</td>\n",
       "      <td>665793</td>\n",
       "      <td>2.614566</td>\n",
       "      <td>0.026814</td>\n",
       "    </tr>\n",
       "    <tr>\n",
       "      <th>4</th>\n",
       "      <td>28400154401</td>\n",
       "      <td>ALL FRITO LAY PRODUCTS ASTSS SALTED SNACKS ASS...</td>\n",
       "      <td>18.00</td>\n",
       "      <td>1591435.49</td>\n",
       "      <td>230412</td>\n",
       "      <td>6.906912</td>\n",
       "      <td>0.024514</td>\n",
       "    </tr>\n",
       "  </tbody>\n",
       "</table>\n",
       "</div>"
      ],
      "text/plain": [
       "          GTIN                                        description  ounces  \\\n",
       "0  28400642031                 DORITOS TORTILLA CHIP NACHO CHEESE    9.75   \n",
       "1  28400154431  ALL FRITO LAY PRODUCTS ASTSS SALTED SNACKS ASS...   18.00   \n",
       "2  28400589891                    CHEETOS CHEESE SNACK FLAMIN HOT    8.50   \n",
       "3  28400645491                           LAYS POTATO CHIP CLASSIC   10.00   \n",
       "4  28400154401  ALL FRITO LAY PRODUCTS ASTSS SALTED SNACKS ASS...   18.00   \n",
       "\n",
       "      revenue     sold  average_price  revenue_share  \n",
       "0  2735406.59  1046022       2.615056       0.042135  \n",
       "1  1862912.68   269550       6.911195       0.028696  \n",
       "2  1815165.97   680959       2.665602       0.027960  \n",
       "3  1740759.67   665793       2.614566       0.026814  \n",
       "4  1591435.49   230412       6.906912       0.024514  "
      ]
     },
     "execution_count": 22,
     "metadata": {},
     "output_type": "execute_result"
    }
   ],
   "source": [
    "products['revenue_share']=products['revenue']/(products['revenue'].sum())\n",
    "products.head()"
   ]
  },
  {
   "cell_type": "code",
   "execution_count": 23,
   "metadata": {},
   "outputs": [
    {
     "data": {
      "text/plain": [
       "<matplotlib.axes._subplots.AxesSubplot at 0x7f765382c1d0>"
      ]
     },
     "execution_count": 23,
     "metadata": {},
     "output_type": "execute_result"
    },
    {
     "data": {
      "image/png": "[encoded data removed]",
      "text/plain": [
       "<Figure size 432x288 with 1 Axes>"
      ]
     },
     "metadata": {
      "needs_background": "light"
     },
     "output_type": "display_data"
    }
   ],
   "source": [
    "products['revenue_share'][:100].plot()"
   ]
  },
  {
   "cell_type": "markdown",
   "metadata": {},
   "source": [
    "**Q3:** Perform an analogous analysis as above using the product of number units sold and the weight of each unit, instead of the revenue."
   ]
  },
  {
   "cell_type": "markdown",
   "metadata": {},
   "source": [
    "## 4. Efficiently Analyzing Text"
   ]
  },
  {
   "cell_type": "code",
   "execution_count": 24,
   "metadata": {},
   "outputs": [],
   "source": [
    "pd.set_option('display.max_colwidth',100)"
   ]
  },
  {
   "cell_type": "code",
   "execution_count": 25,
   "metadata": {},
   "outputs": [
    {
     "data": {
      "text/plain": [
       "0                              DORITOS TORTILLA CHIP NACHO CHEESE\n",
       "1      ALL FRITO LAY PRODUCTS ASTSS SALTED SNACKS ASSORTED BAG IN\n",
       "2                                 CHEETOS CHEESE SNACK FLAMIN HOT\n",
       "3                                        LAYS POTATO CHIP CLASSIC\n",
       "4      ALL FRITO LAY PRODUCTS ASTSS SALTED SNACKS ASSORTED BAG IN\n",
       "5                                     CHEETOS CHEESE SNACK CHEESE\n",
       "6                                     CHEETOS CHEESE SNACK CHEESE\n",
       "7                                DORITOS TORTILLA CHIP COOL RANCH\n",
       "8               RUFFLES POTATO CHIP ORIGINAL ZERO GRAMS TRANS FAT\n",
       "9     TOSTITOS SCOOPS TORTILLA CHIP ORIGINAL ZERO GRAMS TRANS FAT\n",
       "10                         CHEETOS CHEESE SNACK FLAMING HOT LIMON\n",
       "11           TOSTITOS TORTILLA CHIP ORIGINAL ZERO GRAMS TRANS FAT\n",
       "12                                      LAYS POTATO CHIP BARBEQUE\n",
       "13                                       LAYS POTATO CHIP CLASSIC\n",
       "14                                   RUFFLES POTATO CHIP ORIGINAL\n",
       "15                                      FRITOS CORN CHIP ORIGINAL\n",
       "16                             DORITOS TORTILLA CHIP NACHO CHEESE\n",
       "17       TOSTITOS TORTILLA CHIP HINT OF LIME ZERO GRAMS TRANS FAT\n",
       "18                       RUFFLES POTATO CHIP CHEDDAR & SOUR CREAM\n",
       "19                                FRITOS SCOOPS CORN CHIP REGULAR\n",
       "Name: description, dtype: object"
      ]
     },
     "execution_count": 25,
     "metadata": {},
     "output_type": "execute_result"
    }
   ],
   "source": [
    "products['description'][:20]"
   ]
  },
  {
   "cell_type": "code",
   "execution_count": 26,
   "metadata": {},
   "outputs": [
    {
     "data": {
      "text/plain": [
       "0     True\n",
       "1    False\n",
       "2     True\n",
       "3    False\n",
       "4    False\n",
       "Name: description, dtype: bool"
      ]
     },
     "execution_count": 26,
     "metadata": {},
     "output_type": "execute_result"
    }
   ],
   "source": [
    "products['description'].str.contains('CHEESE').head()"
   ]
  },
  {
   "cell_type": "code",
   "execution_count": 27,
   "metadata": {},
   "outputs": [
    {
     "data": {
      "text/plain": [
       "73"
      ]
     },
     "execution_count": 27,
     "metadata": {},
     "output_type": "execute_result"
    }
   ],
   "source": [
    "sum(products['description'].str.contains('CHEESE'))"
   ]
  },
  {
   "cell_type": "code",
   "execution_count": 28,
   "metadata": {},
   "outputs": [
    {
     "data": {
      "text/plain": [
       "101"
      ]
     },
     "execution_count": 28,
     "metadata": {},
     "output_type": "execute_result"
    }
   ],
   "source": [
    "products['cheesy']=products['description'].str.contains('CHEESE') \\\n",
    "                | products['description'].str.contains('CHEDDAR')\n",
    "sum(products['cheesy'])"
   ]
  },
  {
   "cell_type": "code",
   "execution_count": 29,
   "metadata": {},
   "outputs": [
    {
     "data": {
      "text/html": [
       "<div>\n",
       "<style scoped>\n",
       "    .dataframe tbody tr th:only-of-type {\n",
       "        vertical-align: middle;\n",
       "    }\n",
       "\n",
       "    .dataframe tbody tr th {\n",
       "        vertical-align: top;\n",
       "    }\n",
       "\n",
       "    .dataframe thead th {\n",
       "        text-align: right;\n",
       "    }\n",
       "</style>\n",
       "<table border=\"1\" class=\"dataframe\">\n",
       "  <thead>\n",
       "    <tr style=\"text-align: right;\">\n",
       "      <th></th>\n",
       "      <th>GTIN</th>\n",
       "      <th>ounces</th>\n",
       "      <th>revenue</th>\n",
       "      <th>sold</th>\n",
       "      <th>revenue_share</th>\n",
       "    </tr>\n",
       "    <tr>\n",
       "      <th>cheesy</th>\n",
       "      <th></th>\n",
       "      <th></th>\n",
       "      <th></th>\n",
       "      <th></th>\n",
       "      <th></th>\n",
       "    </tr>\n",
       "  </thead>\n",
       "  <tbody>\n",
       "    <tr>\n",
       "      <th>False</th>\n",
       "      <td>293</td>\n",
       "      <td>7.923791</td>\n",
       "      <td>160422.728532</td>\n",
       "      <td>54142.935154</td>\n",
       "      <td>0.002471</td>\n",
       "    </tr>\n",
       "    <tr>\n",
       "      <th>True</th>\n",
       "      <td>101</td>\n",
       "      <td>5.794109</td>\n",
       "      <td>177384.337129</td>\n",
       "      <td>69661.742574</td>\n",
       "      <td>0.002732</td>\n",
       "    </tr>\n",
       "  </tbody>\n",
       "</table>\n",
       "</div>"
      ],
      "text/plain": [
       "        GTIN    ounces        revenue          sold  revenue_share\n",
       "cheesy                                                            \n",
       "False    293  7.923791  160422.728532  54142.935154       0.002471\n",
       "True     101  5.794109  177384.337129  69661.742574       0.002732"
      ]
     },
     "execution_count": 29,
     "metadata": {},
     "output_type": "execute_result"
    }
   ],
   "source": [
    "byCheese=products.groupby('cheesy')\\\n",
    "    .aggregate({'GTIN':'count','ounces':'mean','revenue':'mean','sold':'mean','revenue_share':'mean'})\n",
    "\n",
    "byCheese"
   ]
  },
  {
   "cell_type": "code",
   "execution_count": 30,
   "metadata": {},
   "outputs": [
    {
     "data": {
      "image/png": "[encoded data removed]",
      "text/plain": [
       "<Figure size 432x288 with 2 Axes>"
      ]
     },
     "metadata": {
      "needs_background": "light"
     },
     "output_type": "display_data"
    }
   ],
   "source": [
    "byCheese[['ounces','sold']].plot(kind='bar',subplots=True,title='Comparing Products by Cheesyness')\n",
    "plt.show()"
   ]
  },
  {
   "cell_type": "markdown",
   "metadata": {},
   "source": [
    "**Q4:** Perform a similar analysis by searching for the words `\"HOT\"` or `\"FLAM\"` in the product description, and comparing the sales volume and weight of products with names containing these words and those that do not."
   ]
  }
 ],
 "metadata": {
  "kernelspec": {
   "display_name": "Python 3",
   "language": "python",
   "name": "python3"
  },
  "language_info": {
   "codemirror_mode": {
    "name": "ipython",
    "version": 3
   },
   "file_extension": ".py",
   "mimetype": "text/x-python",
   "name": "python",
   "nbconvert_exporter": "python",
   "pygments_lexer": "ipython3",
   "version": "3.7.1"
  }
 },
 "nbformat": 4,
 "nbformat_minor": 2
}
