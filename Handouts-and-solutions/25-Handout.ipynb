{
 "cells": [
  {
   "cell_type": "markdown",
   "metadata": {},
   "source": [
    "# Session 25: Project Discussion\n",
    "\n",
    "The following exercise is designed to help you zoom out from the complexities of the project and to obtain a coherent big picture view, which is more important at this point than figuring out all the details. \n",
    "\n",
    "## In-Class Group Exercise (30 minutes)\n",
    "\n",
    "**Make a 3-minute presentation with the following 3 slides, and submit on Blackboard within 30 minutes.** Every group will present their slides in the second half of the class (not every group member has to speak). \n",
    "\n",
    "**Your slides should be as simple as possible, using few words, large font, no equations, and no extraneous graphics. Think of slides as visual aid: if there's something you can present verbally without needing the slide, then don't include it on the slide. Your language should be as simple, precise, and clear as possible, being understandable by a senior manager without a technical background.**\n",
    "\n",
    "### Slide 1: Opportunity for Improvement\n",
    "\n",
    "What is the biggest opportunity for improvement that you have identified and would like to address in this project? Why do you think there is a significant and compelling opportunity?\n",
    "\n",
    "### Slide 2: Vision for Optimization Tool\n",
    "\n",
    "At a high level, who would be using your optimization tool and what inputs would he/she need? What is the output of the tool? How should the person interpret the outputs and incorporate into his/her workflow?\n",
    "\n",
    "### Slide 3: Overview of Optimization Formulation\n",
    "\n",
    "Describe in English the decision, objective, and constraints of your optimization. You do not need to go over all the constraints in detail but a succinct high-level summary suffices. Justify why this optimization formulation appropriately addresses the opportunity of improvement you identified,  and how it capture the most important issues. "
   ]
  }
 ],
 "metadata": {
  "kernelspec": {
   "display_name": "Python 3",
   "language": "python",
   "name": "python3"
  },
  "language_info": {
   "codemirror_mode": {
    "name": "ipython",
    "version": 3
   },
   "file_extension": ".py",
   "mimetype": "text/x-python",
   "name": "python",
   "nbconvert_exporter": "python",
   "pygments_lexer": "ipython3",
   "version": "3.7.2"
  }
 },
 "nbformat": 4,
 "nbformat_minor": 2
}
