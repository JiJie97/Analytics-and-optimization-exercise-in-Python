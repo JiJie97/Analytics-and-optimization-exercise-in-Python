{
 "cells": [
  {
   "cell_type": "markdown",
   "metadata": {},
   "source": [
    "# Session 6: Algorithmic Thinking\n",
    "\n",
    "## 1. Steps for Solving a Difficult Programming Problem\n",
    "\n",
    "**I.  Describe** in English the task in precise language.\n",
    "\n",
    "**II. Decompose** the description into well-defined components. For each component, give a step by step recipe of the logic, so that a computer can follow.\n",
    "\n",
    "**III. Translate** the description of each component into runnable code, and test each component.\n",
    "\n",
    "**IV. Combine** the code together into one coherent program and test the entire program.\n",
    "\n",
    "## 1.1 Example: Case 7b (Optimal Pricing)\n",
    "\n",
    "### I.  Describe\n",
    "\n",
    "Given a list of prices, calculate the profit for each price and store the results in a dictionary. Also, find the price that gives the best profit. \n",
    "\n",
    "### II. Decompose\n",
    "\n",
    "**A.** Loop through the list of prices.\n",
    "\n",
    "**B.** Calculate the profit for each price: this is equal to the price multiplied by the demand. The demand can be found using case 7a).\n",
    "\n",
    "**C.** Store the result in a dictionary: the key is the price and the value is the associated profit.\n",
    "\n",
    "**D.** Find the best price: define a variable to keep track of the best price found so far and another variable for the best profit. When looping through the prices, update the variables appropriately.\n",
    "\n",
    "### III. Translate\n",
    "\n",
    "**A.** Loop through ..."
   ]
  },
  {
   "cell_type": "code",
   "execution_count": 1,
   "metadata": {},
   "outputs": [
    {
     "name": "stdout",
     "output_type": "stream",
     "text": [
      "0 5 10 15 20 25 30 35 "
     ]
    }
   ],
   "source": [
    "priceList=[0,5,10,15,20,25,30,35]\n",
    "for price in priceList:\n",
    "    print(price,end=' ')"
   ]
  },
  {
   "cell_type": "markdown",
   "metadata": {},
   "source": [
    "**B.** Calculate the profit ..."
   ]
  },
  {
   "cell_type": "code",
   "execution_count": 2,
   "metadata": {},
   "outputs": [],
   "source": [
    "# Solution of Case 7a\n",
    "def demand(price,values):\n",
    "    count=0\n",
    "    for value in values:\n",
    "        if value>=price:\n",
    "            count+=1\n",
    "    return count"
   ]
  },
  {
   "cell_type": "code",
   "execution_count": 3,
   "metadata": {},
   "outputs": [
    {
     "name": "stdout",
     "output_type": "stream",
     "text": [
      "100\n"
     ]
    }
   ],
   "source": [
    "price=20\n",
    "values=[32,10,15,18,25,40,50,43]\n",
    "profit=price*demand(price,values)\n",
    "print(profit)"
   ]
  },
  {
   "cell_type": "markdown",
   "metadata": {},
   "source": [
    "**C.** Store the result..."
   ]
  },
  {
   "cell_type": "code",
   "execution_count": 4,
   "metadata": {},
   "outputs": [
    {
     "name": "stdout",
     "output_type": "stream",
     "text": [
      "{20: 100}\n"
     ]
    }
   ],
   "source": [
    "result={}\n",
    "price=20\n",
    "profit=100\n",
    "result[price]=profit\n",
    "print(result)"
   ]
  },
  {
   "cell_type": "markdown",
   "metadata": {},
   "source": [
    "**D.** Find the best price..."
   ]
  },
  {
   "cell_type": "code",
   "execution_count": 5,
   "metadata": {},
   "outputs": [
    {
     "name": "stdout",
     "output_type": "stream",
     "text": [
      "20 100\n"
     ]
    }
   ],
   "source": [
    "bestPrice=15\n",
    "bestProfit=75\n",
    "curPrice=20\n",
    "curProfit=100\n",
    "if curProfit>bestProfit:\n",
    "    bestProfit=curProfit\n",
    "    bestPrice=curPrice\n",
    "print(bestPrice,bestProfit)"
   ]
  },
  {
   "cell_type": "markdown",
   "metadata": {},
   "source": [
    "### IV. Combine\n",
    "\n",
    "First code directly in a notebook cell and print intermediate results for ease of debugging. "
   ]
  },
  {
   "cell_type": "code",
   "execution_count": 6,
   "metadata": {},
   "outputs": [
    {
     "name": "stdout",
     "output_type": "stream",
     "text": [
      "Price:  0 Profit 0 Dictionary {0: 0}\n",
      "Price:  5 Profit 40 Dictionary {0: 0, 5: 40}\n",
      "Updated bestPrice: 5 bestProfit: 40\n",
      "Price:  10 Profit 80 Dictionary {0: 0, 5: 40, 10: 80}\n",
      "Updated bestPrice: 10 bestProfit: 80\n",
      "Price:  15 Profit 105 Dictionary {0: 0, 5: 40, 10: 80, 15: 105}\n",
      "Updated bestPrice: 15 bestProfit: 105\n",
      "Price:  20 Profit 100 Dictionary {0: 0, 5: 40, 10: 80, 15: 105, 20: 100}\n",
      "Price:  25 Profit 125 Dictionary {0: 0, 5: 40, 10: 80, 15: 105, 20: 100, 25: 125}\n",
      "Updated bestPrice: 25 bestProfit: 125\n",
      "Price:  30 Profit 120 Dictionary {0: 0, 5: 40, 10: 80, 15: 105, 20: 100, 25: 125, 30: 120}\n",
      "Price:  35 Profit 105 Dictionary {0: 0, 5: 40, 10: 80, 15: 105, 20: 100, 25: 125, 30: 120, 35: 105}\n",
      "Final bestPrice: 25 bestProfit 125\n"
     ]
    }
   ],
   "source": [
    "priceList=[0,5,10,15,20,25,30,35]\n",
    "values=[32,10,15,18,25,40,50,43]\n",
    "bestPrice=0\n",
    "bestProfit=0\n",
    "result={}\n",
    "for price in priceList:\n",
    "    print('Price: ',price,end=' ')\n",
    "    profit=price*demand(price,values)\n",
    "    print('Profit', profit,end=' ')\n",
    "    result[price]=profit\n",
    "    print('Dictionary',result)\n",
    "    if profit>bestProfit:\n",
    "        bestProfit=profit\n",
    "        bestPrice=price\n",
    "        print('Updated bestPrice:',bestPrice,'bestProfit:',bestProfit)\n",
    "print('Final bestPrice:',bestPrice,'bestProfit',bestProfit)"
   ]
  },
  {
   "cell_type": "markdown",
   "metadata": {},
   "source": [
    "### Final Solution"
   ]
  },
  {
   "cell_type": "code",
   "execution_count": 7,
   "metadata": {},
   "outputs": [],
   "source": [
    "def optPrice(priceList,values):\n",
    "    bestProfit=0\n",
    "    bestPrice=0\n",
    "    result={}\n",
    "    for price in priceList:\n",
    "        profit=demand(price,values)*price\n",
    "        result[price]=profit\n",
    "        if profit>bestProfit:\n",
    "            bestProfit=profit\n",
    "            bestPrice=price\n",
    "    return bestPrice, result"
   ]
  },
  {
   "cell_type": "code",
   "execution_count": 8,
   "metadata": {},
   "outputs": [
    {
     "name": "stdout",
     "output_type": "stream",
     "text": [
      "Best price: 25\n",
      "Profit for each price: {0: 0, 5: 40, 10: 80, 15: 105, 20: 100, 25: 125, 30: 120, 35: 105}\n"
     ]
    }
   ],
   "source": [
    "priceList=[0,5,10,15,20,25,30,35]\n",
    "values=[32,10,15,18,25,40,50,43]\n",
    "bestPrice,result=optPrice(priceList,values)\n",
    "print('Best price:',bestPrice)\n",
    "print('Profit for each price:',result)"
   ]
  },
  {
   "cell_type": "markdown",
   "metadata": {},
   "source": [
    "## 2. Practice Problems\n",
    "\n",
    "### Case 8. Optimal Hourly Contract\n",
    "\n",
    "Write a function `optimalContract` with two input arguments:\n",
    "\n",
    "- `hours`: the number of hours you would like to work.\n",
    "- `contracts`: a dictionary mapping the name of a contract to a list of two numbers. The first number is the hourly rate for the first 40 hours. The second number is the bonus for overtime hours, as a proportion of the hourly rate. \n",
    "\n",
    "The function should return two objects. The first is the best possible pay under the specified number of hours worked, and the second is a list of the names of all contracts resulting in the best pay. (If one contract is better than all the rest, then the list has one element. If two or more contracts are tied for the best pay, then the list contains all of the names of the optimal contracts.)\n",
    "\n",
    "```python\n",
    "    contracts={'A':[10,.8],'B':[12,0],'C':[12,.1]}\n",
    "    optimalContract(38,contracts)\n",
    "```\n",
    "\n",
    "```\n",
    "(456, ['B', 'C'])\n",
    "```\n",
    "\n",
    "```python\n",
    "    optimalContract(42,contracts)\n",
    "```\n",
    "\n",
    "```\n",
    "(506.4, ['C'])\n",
    "```\n",
    "\n",
    "```python\n",
    "    optimalContract(60,contracts)\n",
    "```\n",
    "\n",
    "```\n",
    "(760.0, ['A'])\n",
    "```"
   ]
  },
  {
   "cell_type": "markdown",
   "metadata": {},
   "source": [
    "**I.  Describe** in English the task in precise language.\n",
    "\n",
    "**II. Decompose** the description into well-defined components. For each component, give a step by step recipe that a computer can follow."
   ]
  },
  {
   "cell_type": "markdown",
   "metadata": {},
   "source": [
    "**III. Translate** the description of each component into runnable code, and test each component."
   ]
  },
  {
   "cell_type": "markdown",
   "metadata": {},
   "source": [
    "**IV. Combine** the code together into one coherent program and test the entire program. (First code directly in a notebook cell and print intermediate results for ease of debugging.)"
   ]
  },
  {
   "cell_type": "markdown",
   "metadata": {},
   "source": [
    "### Case 9: Estimating Demand for Substitutable Products\n",
    "\n",
    "This problem generalizes case 7a) to selling two products. Write a function named `demand` with two input arguments:\n",
    "\n",
    "- `priceVector`: a list of length 2 containing two positive numbers, corresponding to the proposed prices for the two products.\n",
    "- `values`: a list in which each element is a list of length 2, corresponding to the valuation of a customer for the two products.\n",
    "\n",
    "Assume that each customer would only purchase one of the two products: if the customer's valuations for both products are greater than or equal to the corresponding prices, then the customer will purchase the product in which his/her valuation minus the price is the largest. If there is a tie, then the customer will purchase the first product. For example, if the valuation of a customer is `[9,8]` then\n",
    "\n",
    "- If `priceVector=[6,4]`, then the customer will purchase the second product because $8-4>9-6$.\n",
    "- If `priceVector=[5,4]`, then the customer will purchase the first product because $9-5 \\ge 8-4$.\n",
    "- If `priceVector=[10,8]`, then the constumer will purchase the second product.\n",
    "- If `priceVector=[10,10]`, then the customer will purchase neither products.\n",
    "\n",
    "The function should return a list of two numbers, representing the number of customers purchasing each product.\n",
    "\n",
    "```python\n",
    "    values=[[25,15],[18,18],[30,20],[30,30]]\n",
    "    priceVector=[25,20]\n",
    "    demand(priceVector,values)\n",
    "```\n",
    "\n",
    "```\n",
    "[2, 1]\n",
    "```"
   ]
  },
  {
   "cell_type": "markdown",
   "metadata": {},
   "source": [
    "**I.  Describe** in English the task in precise language.\n",
    "\n",
    "**II. Decompose** the description into well-defined components. For each component, give a step by step recipe that a computer can follow.\n",
    "\n",
    "**III. Translate** the description of each component into runnable code, and test each component."
   ]
  },
  {
   "cell_type": "markdown",
   "metadata": {},
   "source": [
    "**IV. Combine** the code together into one coherent program and test the entire program. (First code directly in a notebook cell and print intermediate results for ease of debugging.)"
   ]
  },
  {
   "cell_type": "markdown",
   "metadata": {},
   "source": [
    "**(Optional Challenge Problem 1)** Generalize Case 9 to arbitrarily many products: the input list `priceVector` may have $n$ elements, for an arbitrary positive integer $n$. Each element of the list `values` is a list of length $n$, corresponding to a customer's valuation for each of the $n$ products. Each customer maximizes the difference between valuation and the price, breaking ties for products of lower index. The customer purchases nothing if he/she values none of the products above the corresponding price. The function return a list of length $n$ representing the number of customers who purchases each product.\n",
    "\n",
    "**(Optional Challenge Problem 2)** Generalize Case 7b) appropriately to find optimal pricing with multiple products: the input list `priceList` is now a list of price vectors, each of which is a list of length $n$. The input list `values` is as in the problem above. The function `optPrice` should return the optimal price vector found."
   ]
  }
 ],
 "metadata": {
  "kernelspec": {
   "display_name": "Python 3",
   "language": "python",
   "name": "python3"
  },
  "language_info": {
   "codemirror_mode": {
    "name": "ipython",
    "version": 3
   },
   "file_extension": ".py",
   "mimetype": "text/x-python",
   "name": "python",
   "nbconvert_exporter": "python",
   "pygments_lexer": "ipython3",
   "version": "3.7.1"
  }
 },
 "nbformat": 4,
 "nbformat_minor": 2
}
