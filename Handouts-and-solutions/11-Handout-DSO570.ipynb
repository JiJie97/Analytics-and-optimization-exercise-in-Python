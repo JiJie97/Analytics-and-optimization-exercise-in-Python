{
 "cells": [
  {
   "cell_type": "markdown",
   "metadata": {},
   "source": [
    "# Session 11: Problem Solving with Probability\n",
    "\n",
    "### Four steps of math problem solving:\n",
    "**1. Describe** what is desired and what is given in succinct and precise language.\n",
    "\n",
    "**2. Identify** all relevant concepts and formula that you know about. (This is a brainstorming exercise so you should try to draw as many connections as you can.)\n",
    "\n",
    "**3. Plan** a pathway from what is given to what is desired. (You can either start backward from what is desired or go forward from what is given.)\n",
    "\n",
    "**4. Execute** the plan above to solve the problem and compute the final answer.\n",
    "\n",
    "## Q1 (Weather Prediction)\n",
    "In Oblako County, any day can be either sunny or cloudy. If a day is sunny, the following day will be sunny with probability $0.6$. If a day is cloudy, the following day will be cloudy with probability $0.7$. Suppose it is cloudy on Monday, what is the probability that it will be sunny on Wednesday?"
   ]
  },
  {
   "cell_type": "markdown",
   "metadata": {},
   "source": [
    "## Q2 (Safety Stock)\n",
    "The weekly sales of a brand-name kitchen cleanser at a supermarket is believed to be Normally distributed with a mean of $2550$ bottles and a standard deviation of $415$ bottles. The store manager places an order at the beginning of each week for the cleanser. She would like to carry enough bottles of the cleanser so that the probability of stocking out (not having enough bottles of cleansers) is only $2.5\\%$. What is the minimum number of bottles she should order each week? (For this question, don't worry about having integer number of bottles.)"
   ]
  },
  {
   "cell_type": "markdown",
   "metadata": {},
   "source": [
    "## Q3 (Television Marketing)\n",
    "An athletic footwear company is attempting to estimate the sales that will result from a television advertisement campaign of its new athletic shoe. The contribution to earnings from each pair of shoes sold is $40$ dollars. Suppose that the probability that a television viewer will watch the advertisement (as opposed to turn his/her attention elsewhere) is $0.40$. Furthermore, suppose that $1\\%$ of viewers who watch the advertisement on a local television channel will buy a pair of shoes. The company can buy advertising time in one of the slots as shown below.\n",
    "\n",
    "| Time Slot | Cost of Advertisement (per minute) | # of Viewers |\n",
    "|--|--|--|\n",
    "|Morning| 120,000 | 1,000,000 |\n",
    "|Afternoon| 200,000 | 1,300,000  |\n",
    "|Prime Time| 400,000 | 3,200,000 |\n",
    "|Late Evening|  150,000 | 800,000 |\n",
    "\n",
    "**(a)** Supose that the company decides to buy one minute of advertising time. Which time slot would maximize the company's expected profit? (Profit is total earnings from advertisement minus cost of advertisement.) "
   ]
  },
  {
   "cell_type": "markdown",
   "metadata": {},
   "source": [
    "**(b)** What is the estimated expected value and standard deviation in profit, assuming that the \\# of viewers for each time slot is deterministic?"
   ]
  },
  {
   "cell_type": "markdown",
   "metadata": {},
   "source": [
    "## Q4 (Pricing with Market Segmentation)\n",
    "Blaise owns a store selling a certain product. His market research team categorizes potential customers into two segments, A and B. They estimate that on average, 30% of customers are of segment A, and 70% customers are of segment B. (However, the actual proportion of your customers each day who are of segment A may vary from day to day, as there are random fluctuations.) They further estimate that the maximum willingness to pay of a segment A customer is normally distriuted with mean 150 and standard deviation 30, while the maximum willingness to pay of a segment B customer is normally distributed with mean 120 and standard deviation 40. Suppose Blaise prices his product at 160 dollars and that he has more than enough inventory. \n",
    "\n",
    "**(a)** Calculate the probability that a customer from each of the two segment purchases the product."
   ]
  },
  {
   "cell_type": "markdown",
   "metadata": {},
   "source": [
    "**(b)** Calculate the probability that a randomly chosen customer who purchases the product is from segment A."
   ]
  },
  {
   "cell_type": "markdown",
   "metadata": {},
   "source": [
    "**(c)** The market research team estimates that each segment A customer who purchase the product would later return it with $20\\%$ probability, and each segment B customer would return it with $1\\%$ probability. Calculate the probability that out of $1000$ customers who purchased the product, at least 100 would later return it."
   ]
  },
  {
   "cell_type": "markdown",
   "metadata": {},
   "source": [
    "**(d)** Suppose that there is 100,000 customers in total. Moreover, a returned product yields zero revenue. What is the expected value and standard deviation of revenue from each segment, after accounting for returns?"
   ]
  },
  {
   "cell_type": "markdown",
   "metadata": {},
   "source": [
    "## Bonus (Geographic Testing)\n",
    "Extensive logging has exposed a hillside in San Carlos to the possibility of a mudslide. The mayor has consulted a geographic expert, who estimates that there is only a 10\\% chance that the slide will occur within the next year. The expert adds that roughly 5\\% of such slides would break through the existing retaining wall, which would cause a damage of one million dollars. (The slides that don't break the wall would cause negligible damage.) \n",
    "\n",
    "The expert also mentioned that she can conduct a geological test to better assess the likelihood of a mud slide. The test has three possible outcomes, as seen in the table below, which also summarize past data (from other locations) on whether a subsequent slide indeed happened afterward.\n",
    "\n",
    "| Test Outcome | Slide within 1 year | No slide within 1 year | \n",
    "|--|--|--|\n",
    "|Positive| 900 | 50 | \n",
    "|Neutral| 25 |  100 |\n",
    "|Negative| 75 | 850 |\n",
    "\n",
    "**(a)** Suppose that the expert's initial estimate of 10\\% chance is correct, what's the probability that the test would yield a positive result in San Carlos?\n",
    "\n",
    "**(b)** If there is a way to strengthen the retaining wall so that it would not break under any mud slide, how much should the mayor be willing to pay for the wall supposing that the geographic test yields a positive result? What about if it yields a neutral result?\n",
    "\n",
    "**(c)** Suppose the way to strengthen the retaining wall costs $20000$ dollars, how much should the mayor be willing to pay for the geological test?"
   ]
  }
 ],
 "metadata": {
  "kernelspec": {
   "display_name": "Python 3",
   "language": "python",
   "name": "python3"
  },
  "language_info": {
   "codemirror_mode": {
    "name": "ipython",
    "version": 3
   },
   "file_extension": ".py",
   "mimetype": "text/x-python",
   "name": "python",
   "nbconvert_exporter": "python",
   "pygments_lexer": "ipython3",
   "version": "3.7.2"
  }
 },
 "nbformat": 4,
 "nbformat_minor": 2
}
