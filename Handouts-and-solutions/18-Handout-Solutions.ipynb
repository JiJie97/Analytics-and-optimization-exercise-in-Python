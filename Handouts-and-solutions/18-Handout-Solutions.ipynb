{
 "cells": [
  {
   "cell_type": "markdown",
   "metadata": {},
   "source": [
    "# Session 18: Mixed Integer Programming (MIP) Solutions\n",
    "\n",
    "## 1. Geometry of Linear Programming \n",
    "\n",
    "**Example 1:** Solve the following LP graphically without the use of a computer.\n",
    "\n",
    "$$\\begin{aligned} & \\text{Maximize} & 2X+Y \\\\\n",
    "& \\text{subject to:} \\\\\n",
    "& \\text{(Material 1)} & X+2Y & \\le 6 \\\\\n",
    "& \\text{(Material 2)} & 3Y & \\le 6 \\\\\n",
    "& \\text{(Non-negativity)} & X, Y & \\ge 0\n",
    "\\end{aligned}$$\n",
    "\n",
    "**Q1:** Solve the following LP graphically (find optimal solution and objective value). Which constraints are binding at the optimal solution? For each constraint, determine the sign of the its shadow price. (The sign means whether it is positive, negative, or zero.) \n",
    "\n",
    "$$\\begin{aligned}\n",
    "\\text{Maximize} && 10X+20Y \\\\\n",
    "\\text{subject to:} \\\\\n",
    "\\text{(Material 1)} && 4X+Y & \\le 60 \\\\\n",
    "\\text{(Material 2)} && 2Y & \\le 48 \\\\\n",
    "\\text{(Labor)} && X+Y & \\le 30 \\\\\n",
    "\\text{(Non-negativity)}&& X,Y & \\ge 0 \\\\\n",
    "\\end{aligned}$$\n",
    "\n",
    "**Q2:** How does the optimal solution changes if both $X$ and $Y$ have to be integer multiples of $10$?"
   ]
  },
  {
   "cell_type": "markdown",
   "metadata": {},
   "source": [
    "## 2. Introduction to MIPs\n",
    "\n",
    "**Example 2:** Suppose that in the production planning example of Q1, there is an additional fixed cost of 90 for using any amount material 2. If we pay this cost, then we have 48 units of material 2 at our disposal, otherwise we have no material 2. What is the optimal profit and corresponding production plan?\n",
    "\n",
    "**Decision Variables:**\n",
    "\n",
    "- Let $X$ and $Y$ be the amount of each product to produce. (integer)\n",
    "- Let $M_2$ be a binary variable corresponding to whether we use material 2 at all. \n",
    "\n",
    "**Objective and Constraints:**\n",
    "\n",
    "$$\\begin{aligned}\n",
    "\\text{Maximize} && 10X+20Y-90M_2 \\\\\n",
    "\\text{subject to:} \\\\\n",
    "\\text{(Material 1)} && 4X+Y & \\le 60 \\\\\n",
    "\\text{(Material 2)} && 2Y & \\le 48M_2 \\\\\n",
    "\\text{(Labor)} && X+Y & \\le 30 \\\\\n",
    "\\text{(Non-negativity)}&& X,Y & \\ge 0 \\\\\n",
    "\\text{(Binary)} && M_2 & \\in \\{0,1\\}\n",
    "\\end{aligned}$$"
   ]
  },
  {
   "cell_type": "code",
   "execution_count": 1,
   "metadata": {},
   "outputs": [
    {
     "name": "stdout",
     "output_type": "stream",
     "text": [
      "Academic license - for non-commercial use only\n",
      "Optimize a model with 3 rows, 3 columns and 6 nonzeros\n",
      "Variable types: 2 continuous, 1 integer (1 binary)\n",
      "Coefficient statistics:\n",
      "  Matrix range     [1e+00, 5e+01]\n",
      "  Objective range  [1e+01, 9e+01]\n",
      "  Bounds range     [1e+00, 1e+00]\n",
      "  RHS range        [3e+01, 6e+01]\n",
      "Found heuristic solution: objective 150.0000000\n",
      "Presolve time: 0.00s\n",
      "Presolved: 3 rows, 3 columns, 7 nonzeros\n",
      "Variable types: 2 continuous, 1 integer (1 binary)\n",
      "\n",
      "Root relaxation: objective 4.500000e+02, 2 iterations, 0.00 seconds\n",
      "\n",
      "    Nodes    |    Current Node    |     Objective Bounds      |     Work\n",
      " Expl Unexpl |  Obj  Depth IntInf | Incumbent    BestBd   Gap | It/Node Time\n",
      "\n",
      "*    0     0               0     450.0000000  450.00000  0.00%     -    0s\n",
      "\n",
      "Explored 0 nodes (2 simplex iterations) in 0.02 seconds\n",
      "Thread count was 4 (of 4 available processors)\n",
      "\n",
      "Solution count 2: 450 150 \n",
      "\n",
      "Optimal solution found (tolerance 1.00e-04)\n",
      "Best objective 4.500000000000e+02, best bound 4.500000000000e+02, gap 0.0000%\n"
     ]
    }
   ],
   "source": [
    "from gurobipy import Model, GRB\n",
    "mod=Model()\n",
    "\n",
    "X=mod.addVar()\n",
    "Y=mod.addVar()\n",
    "M2=mod.addVar(vtype=GRB.BINARY)\n",
    "\n",
    "mod.setObjective(10*X+20*Y-90*M2,sense=GRB.MAXIMIZE)\n",
    "mod.addConstr(4*X+Y <=60)\n",
    "mod.addConstr(2*Y<=48*M2)\n",
    "mod.addConstr(X+Y<=30)\n",
    "\n",
    "mod.optimize()"
   ]
  },
  {
   "cell_type": "code",
   "execution_count": 2,
   "metadata": {},
   "outputs": [
    {
     "name": "stdout",
     "output_type": "stream",
     "text": [
      "Optimal objective: 450.0\n",
      "\tX: 6.0\n",
      "\tY: 24.0\n",
      "\tM2: 1.0\n"
     ]
    }
   ],
   "source": [
    "print('Optimal objective:', mod.objval)\n",
    "print('\\tX:',X.x)\n",
    "print('\\tY:',Y.x)\n",
    "print('\\tM2:',M2.x)"
   ]
  },
  {
   "cell_type": "markdown",
   "metadata": {},
   "source": [
    "**Q3:** Consider the LP as in Q1 but now $X$ and $Y$ have to be integer multiples of 10. Formulate this as a MIP and solve it using Gurobi."
   ]
  },
  {
   "cell_type": "markdown",
   "metadata": {},
   "source": [
    "\n",
    "**Decision Variables:**\n",
    "\n",
    "- Let $X$ and $Y$ be the amount of each product to produce. (integer)\n",
    "- Let $I_1$ and $I_2$ be integers.\n",
    "\n",
    "**Objective and Constraints:**\n",
    "\n",
    "$$\\begin{aligned}\n",
    "\\text{Maximize} && 10X+20Y \\\\\n",
    "\\text{subject to:} \\\\\n",
    "\\text{(Material 1)} && 4X+Y & \\le 60 \\\\\n",
    "\\text{(Material 2)} && 2Y & \\le 48 \\\\\n",
    "\\text{(Labor)} && X+Y & \\le 30 \\\\\n",
    "\\text{(X multiple of 10)} && X &= 10I_1 \\\\\n",
    "\\text{(Y multiple of 10)} && Y &= 10I_2 \\\\\n",
    "\\text{(Non-negativity)}&& X,Y & \\ge 0 \\\\\n",
    "\\text{(Integer)} && I_1, I_2 & \\in \\mathbb{Z}\n",
    "\\end{aligned}$$"
   ]
  },
  {
   "cell_type": "code",
   "execution_count": 3,
   "metadata": {},
   "outputs": [
    {
     "name": "stdout",
     "output_type": "stream",
     "text": [
      "Optimal objective: 500.0\n",
      "\tX: 10.0\n",
      "\tY: 20.0\n"
     ]
    }
   ],
   "source": [
    "from gurobipy import Model, GRB\n",
    "\n",
    "mod=Model()\n",
    "\n",
    "X=mod.addVar()\n",
    "Y=mod.addVar()\n",
    "I1=mod.addVar(vtype=GRB.INTEGER)\n",
    "I2=mod.addVar(vtype=GRB.INTEGER)\n",
    "\n",
    "mod.setObjective(10*X+20*Y,sense=GRB.MAXIMIZE)\n",
    "mod.addConstr(4*X+Y <=60)\n",
    "mod.addConstr(2*Y<=48)\n",
    "mod.addConstr(X+Y<=30)\n",
    "mod.addConstr(X==10*I1)\n",
    "mod.addConstr(Y==10*I2)\n",
    "\n",
    "mod.setParam('outputflag',False)\n",
    "mod.optimize()\n",
    "\n",
    "print('Optimal objective:', mod.objval)\n",
    "print('\\tX:',X.x)\n",
    "print('\\tY:',Y.x)"
   ]
  },
  {
   "cell_type": "markdown",
   "metadata": {},
   "source": [
    "**Q4:** Consider the production planning problem from Q1 with the following modifications:\n",
    "\n",
    "- All production quantities must be integers. \n",
    "- You have the additional ability to purchase more units of Material 1 at a cost of 3 per unit. However, you can only purchase them in batches of 9 units. \n",
    "- Producing any positive amounts of $X$ would incur a fixed cost of 100.\n",
    "- The number of units produced for $Y$ is either zero or at least 5.\n",
    "\n",
    "\n",
    "What is the optimal profit and how is it be achieved?"
   ]
  },
  {
   "cell_type": "markdown",
   "metadata": {},
   "source": [
    "**Decision Variables:**\n",
    "\n",
    "- Let $X$ and $Y$ be the amount of each product to produce. (integer)\n",
    "- Let $N_1$ be the number of batches of material 1 to purchase. (integer)\n",
    "- Let $Z_1$ be 1 if we produce any amount of $X$, and 0 otherwise. (binary)\n",
    "- Let $Z_2$ be 1 if we produce any amount of $Y$, and 0 otherwise. (binary)\n",
    "\n",
    "\n",
    "**Objective and Constraints:**\n",
    "\n",
    "$$\\begin{aligned}\n",
    "\\text{Maximize} && 10X+20Y-27N_1-100Z_1 \\\\\n",
    "\\text{subject to:} \\\\\n",
    "\\text{(Material 1)} && 4X+Y & \\le 60+9N_1 \\\\\n",
    "\\text{(Material 2)} && 2Y & \\le 48 \\\\\n",
    "\\text{(Labor)} && X+Y & \\le 30 \\\\\n",
    "\\text{(Whether we produce X)} && X & \\le 1000Z_1 \\\\\n",
    "\\text{(Minimum production size)} && 5Z_2 \\le Y & \\le 1000Z_2 \\\\\n",
    "\\text{(Non-negativity)}&& X,Y & \\ge 0 \\\\\n",
    "\\end{aligned}$$"
   ]
  },
  {
   "cell_type": "code",
   "execution_count": 4,
   "metadata": {},
   "outputs": [
    {
     "name": "stdout",
     "output_type": "stream",
     "text": [
      "Optimal objective: 480.0\n",
      "\tX: 0.0\n",
      "\tY: 24.0\n",
      "\tN1: -0.0\n",
      "\tZ1: 0.0\n",
      "\tZ2: 1.0\n"
     ]
    }
   ],
   "source": [
    "from gurobipy import Model, GRB\n",
    "mod=Model()\n",
    "\n",
    "X=mod.addVar(vtype=GRB.INTEGER)\n",
    "Y=mod.addVar(vtype=GRB.INTEGER)\n",
    "N1=mod.addVar(vtype=GRB.INTEGER)\n",
    "Z1=mod.addVar(vtype=GRB.BINARY)\n",
    "Z2=mod.addVar(vtype=GRB.BINARY)\n",
    "\n",
    "mod.setObjective(10*X+20*Y-27*N1-100*Z1,sense=GRB.MAXIMIZE)\n",
    "mod.addConstr(4*X+Y <=60+9*N1)\n",
    "mod.addConstr(2*Y<=48)\n",
    "mod.addConstr(X+Y<=30)\n",
    "mod.addConstr(X<=1000*Z1)\n",
    "# Note that each side of this constraint must be coded separately\n",
    "mod.addConstr(5*Z2 <= Y )\n",
    "mod.addConstr(Y<=1000*Z2)\n",
    "\n",
    "mod.setParam('outputflag',False)\n",
    "mod.optimize()\n",
    "\n",
    "print('Optimal objective:', mod.objval)\n",
    "print('\\tX:',X.x)\n",
    "print('\\tY:',Y.x)\n",
    "print('\\tN1:',N1.x)\n",
    "print('\\tZ1:',Z1.x)\n",
    "print('\\tZ2:',Z2.x)"
   ]
  }
 ],
 "metadata": {
  "kernelspec": {
   "display_name": "Python 3",
   "language": "python",
   "name": "python3"
  },
  "language_info": {
   "codemirror_mode": {
    "name": "ipython",
    "version": 3
   },
   "file_extension": ".py",
   "mimetype": "text/x-python",
   "name": "python",
   "nbconvert_exporter": "python",
   "pygments_lexer": "ipython3",
   "version": "3.7.2"
  }
 },
 "nbformat": 4,
 "nbformat_minor": 2
}
