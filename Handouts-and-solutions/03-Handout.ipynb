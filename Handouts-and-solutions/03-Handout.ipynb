{
 "cells": [
  {
   "cell_type": "markdown",
   "metadata": {},
   "source": [
    "# Session 3 Handout"
   ]
  },
  {
   "cell_type": "markdown",
   "metadata": {},
   "source": [
    "## 1. Defining and Calling your Own Functions"
   ]
  },
  {
   "cell_type": "code",
   "execution_count": 1,
   "metadata": {},
   "outputs": [
    {
     "name": "stdout",
     "output_type": "stream",
     "text": [
      "Help on function calculateWage in module __main__:\n",
      "\n",
      "calculateWage(hours, base=10, bonus=0.5)\n",
      "    Calculates weekly wage\n",
      "\n",
      "Pay for 42 hours with default base and bonus: 430.0\n",
      "Pay for 42 hours with base 12/hour and default bonus: 516.0\n",
      "Pay for 42 hours with base 12/hour and bonus 60%: 518.4\n",
      "Pay for 42 hours with default base and bonus 50%: 432.0\n"
     ]
    }
   ],
   "source": [
    "def calculateWage(hours,base=10,bonus=.5):\n",
    "    ''' Calculates weekly wage '''\n",
    "    if hours<=40:\n",
    "        pay=hours*base\n",
    "    else:\n",
    "        pay=hours*base+(hours-40)*base*bonus\n",
    "    return pay\n",
    "\n",
    "help(calculateWage)\n",
    "print('Pay for 42 hours with default base and bonus:',calculateWage(42))\n",
    "print('Pay for 42 hours with base 12/hour and default bonus:',calculateWage(42,12))\n",
    "print('Pay for 42 hours with base 12/hour and bonus 60%:', calculateWage(42,12,.6))\n",
    "print('Pay for 42 hours with default base and bonus 50%:',calculateWage(42,bonus=0.6))"
   ]
  },
  {
   "cell_type": "markdown",
   "metadata": {},
   "source": [
    "**Q1:** (Modification of case 2 from last session) Write a function named `orderQuantity` that takes two input arguments, `inventory` and `basestock`. If `inventory` is at least equal to `basestock`, then return 0. Otherwise, return the difference between `basestock` and `inventory`. Set the default value for `inventory` to be 0 and for `basestock` to be 100. Include an appropriate docstring to explain what the function does."
   ]
  },
  {
   "cell_type": "code",
   "execution_count": 3,
   "metadata": {},
   "outputs": [
    {
     "name": "stdout",
     "output_type": "stream",
     "text": [
      "Help on function orderQuantity in module __main__:\n",
      "\n",
      "orderQuantity(inventory=0, basestock=100)\n",
      "    Calculates order quantity given inventory level and basestock level\n",
      "\n",
      "100\n",
      "75\n",
      "0\n",
      "200\n",
      "20\n"
     ]
    }
   ],
   "source": [
    "# Code to test your function\n",
    "help(orderQuantity)\n",
    "print(orderQuantity())\n",
    "print(orderQuantity(25))\n",
    "print(orderQuantity(51,50))\n",
    "print(orderQuantity(basestock=200))\n",
    "print(orderQuantity(inventory=80))"
   ]
  },
  {
   "cell_type": "markdown",
   "metadata": {},
   "source": [
    "**Q2:** Walk through the code to explain each line of the above output."
   ]
  },
  {
   "cell_type": "markdown",
   "metadata": {},
   "source": [
    "### Packaging functions within a module\n",
    "Open Spyder and create a new Python script, and copy paste the two functions `calculateWage` and `orderQuantity` into the script. Save the script into the same folder as this notebook, as `session3.py`. If everything is correct, you should be able to run the following."
   ]
  },
  {
   "cell_type": "code",
   "execution_count": 4,
   "metadata": {},
   "outputs": [
    {
     "name": "stdout",
     "output_type": "stream",
     "text": [
      "400\n",
      "70\n",
      "Help on function orderQuantity in module session3:\n",
      "\n",
      "orderQuantity(inventory, basestock=100)\n",
      "    Calculates order quantity given inventory level and basestock level\n",
      "\n"
     ]
    }
   ],
   "source": [
    "import session3\n",
    "print(session3.calculateWage(40))\n",
    "print(session3.orderQuantity(30))\n",
    "help(session3.orderQuantity)"
   ]
  },
  {
   "cell_type": "code",
   "execution_count": null,
   "metadata": {},
   "outputs": [],
   "source": [
    "print('Module contains the following variables and functions:', dir(session3))"
   ]
  },
  {
   "cell_type": "code",
   "execution_count": null,
   "metadata": {},
   "outputs": [],
   "source": [
    "help(session3)"
   ]
  },
  {
   "cell_type": "markdown",
   "metadata": {},
   "source": [
    "## 2. Exploring Existing Functions"
   ]
  },
  {
   "cell_type": "code",
   "execution_count": 7,
   "metadata": {},
   "outputs": [
    {
     "name": "stdout",
     "output_type": "stream",
     "text": [
      "Help on built-in function print in module builtins:\n",
      "\n",
      "print(...)\n",
      "    print(value, ..., sep=' ', end='\\n', file=sys.stdout, flush=False)\n",
      "    \n",
      "    Prints the values to a stream, or to sys.stdout by default.\n",
      "    Optional keyword arguments:\n",
      "    file:  a file-like object (stream); defaults to the current sys.stdout.\n",
      "    sep:   string inserted between values, default a space.\n",
      "    end:   string appended after the last value, default a newline.\n",
      "    flush: whether to forcibly flush the stream.\n",
      "\n"
     ]
    }
   ],
   "source": [
    "help(print)"
   ]
  },
  {
   "cell_type": "code",
   "execution_count": null,
   "metadata": {},
   "outputs": [],
   "source": [
    "print(dir(__builtins__))"
   ]
  },
  {
   "cell_type": "markdown",
   "metadata": {},
   "source": [
    "**Q3:** Run the above line and out of the items in all lowercase, choose five that look interesting to you, and use `type` and `help` and trial and error to find out what each of these built-in objects are and what you can do with them. Explain to your neighbor. "
   ]
  },
  {
   "cell_type": "markdown",
   "metadata": {},
   "source": [
    "**Q4:** Import the `math` module and print the list of variables and functions within this module using `dir`. Choose five functions from this list and use `help` and trial and error to figure out how to use them. Explain to your neighbor."
   ]
  },
  {
   "cell_type": "markdown",
   "metadata": {},
   "source": [
    "**Q5:** Use `dir` on the string object `\"Hi\"`. Choose five functions from this list and use `help` and trial and error to figure out how to use these functions built in to every string object. Explain to your neighbor."
   ]
  },
  {
   "cell_type": "markdown",
   "metadata": {},
   "source": [
    "### Case 6a. Mortgage Calculator I\n",
    "Write a function `numberMonths` in module `session3` that calculates how many months it would take to pay off a mortgage given the monthly payment. The function has four input arguments: `total`, `monthly`, `interest`, and `downpay`. Let the default values for `interest` be 0.0425 and for `downpay` be 0. Label the four arguments $T$, $M$, $I$, $D$ respectively. The number of months needed $N$ is given by the formula\n",
    "\n",
    "$$ N = ceil\\left( \\frac{-\\log(1-\\frac{i(T-D)}{M})}{\\log(1+i)} \\right), $$\n",
    "where $i=I/12$ is the monthly interest rate and $ceil$ is the `math.ceil` function. (Note, after modifying the `session3.py`, you will have to restart the kernel using the toolbar above to reload the latest version.)"
   ]
  },
  {
   "cell_type": "code",
   "execution_count": 20,
   "metadata": {},
   "outputs": [
    {
     "data": {
      "text/plain": [
       "13.833333333333334"
      ]
     },
     "execution_count": 20,
     "metadata": {},
     "output_type": "execute_result"
    }
   ],
   "source": [
    "import session3 as s3\n",
    "s3.numberMonths(500000,4000)/12"
   ]
  },
  {
   "cell_type": "code",
   "execution_count": 21,
   "metadata": {},
   "outputs": [
    {
     "data": {
      "text/plain": [
       "14.75"
      ]
     },
     "execution_count": 21,
     "metadata": {},
     "output_type": "execute_result"
    }
   ],
   "source": [
    "s3.numberMonths(500000,4000,interest=0.05)/12"
   ]
  },
  {
   "cell_type": "markdown",
   "metadata": {},
   "source": [
    "### Case 6b. Mortgage Calculator II\n",
    "Write a function `monthlyPayment` in module `session3` that calculates the monthly payment needed to pay off a mortgage in a given number of months. The function has four input arguments: `total`, `months`, `interest`, and `downpay`. Let the default values for `interest` be 0.0425 and for `downpay` be 0. Label the four arguments $T$, $N$, $I$, $D$ respectively. The monthly payment $M$ is given by the formula\n",
    "\n",
    "$$M=\\frac{(1+i)^N}{(1+i)^N-1}i(T-D),$$\n",
    "where $i=I/12$ is the monthly interest rate. Round the answer to two decimal places using the `round` function."
   ]
  },
  {
   "cell_type": "code",
   "execution_count": 22,
   "metadata": {},
   "outputs": [
    {
     "data": {
      "text/plain": [
       "2459.7"
      ]
     },
     "execution_count": 22,
     "metadata": {},
     "output_type": "execute_result"
    }
   ],
   "source": [
    "s3.monthlyPayment(500000,12*30)"
   ]
  },
  {
   "cell_type": "code",
   "execution_count": 23,
   "metadata": {},
   "outputs": [
    {
     "data": {
      "text/plain": [
       "2684.11"
      ]
     },
     "execution_count": 23,
     "metadata": {},
     "output_type": "execute_result"
    }
   ],
   "source": [
    "s3.monthlyPayment(500000,12*30,interest=0.05)"
   ]
  }
 ],
 "metadata": {
  "kernelspec": {
   "display_name": "Python 3",
   "language": "python",
   "name": "python3"
  },
  "language_info": {
   "codemirror_mode": {
    "name": "ipython",
    "version": 3
   },
   "file_extension": ".py",
   "mimetype": "text/x-python",
   "name": "python",
   "nbconvert_exporter": "python",
   "pygments_lexer": "ipython3",
   "version": "3.6.8"
  }
 },
 "nbformat": 4,
 "nbformat_minor": 2
}
