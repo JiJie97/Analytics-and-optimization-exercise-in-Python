{
 "cells": [
  {
   "cell_type": "markdown",
   "metadata": {},
   "source": [
    "# Session 18: Mixed Integer Programming (MIP)\n",
    "\n",
    "## 1. Geometry of Linear Programming \n",
    "\n",
    "**Example 1:** Solve the following LP graphically without the use of a computer.\n",
    "\n",
    "$$\\begin{aligned} & \\text{Maximize} & 2X+Y \\\\\n",
    "& \\text{subject to:} \\\\\n",
    "& \\text{(Material 1)} & X+2Y & \\le 6 \\\\\n",
    "& \\text{(Material 2)} & 3Y & \\le 6 \\\\\n",
    "& \\text{(Non-negativity)} & X, Y & \\ge 0\n",
    "\\end{aligned}$$\n",
    "\n",
    "**Q1:** Solve the following LP graphically (find optimal solution and objective value). Which constraints are binding at the optimal solution? For each constraint, determine the sign of the its shadow price. (The sign means whether it is positive, negative, or zero.) \n",
    "\n",
    "$$\\begin{aligned}\n",
    "\\text{Maximize} && 10X+20Y \\\\\n",
    "\\text{subject to:} \\\\\n",
    "\\text{(Material 1)} && 4X+Y & \\le 60 \\\\\n",
    "\\text{(Material 2)} && 2Y & \\le 48 \\\\\n",
    "\\text{(Labor)} && X+Y & \\le 30 \\\\\n",
    "\\text{(Non-negativity)}&& X,Y & \\ge 0 \\\\\n",
    "\\end{aligned}$$\n",
    "\n",
    "**Q2:** How does the optimal solution changes if both $X$ and $Y$ have to be integer multiples of $10$?"
   ]
  },
  {
   "cell_type": "markdown",
   "metadata": {},
   "source": [
    "## 2. Introduction to MIPs\n",
    "\n",
    "**Example 2:** Suppose that in the production planning example of Q1, we have the following additional constraint: using any material 2 at all requires a set up cost of 90. If we pay this cost, then we have 48 units of material 2 at our disposal, otherwise we have no material 2. What is the optimal profit and corresponding production plan?\n",
    "\n",
    "**Decision Variables:**\n",
    "\n",
    "\n",
    "**Objective and Constraints:**\n"
   ]
  },
  {
   "cell_type": "code",
   "execution_count": 7,
   "metadata": {},
   "outputs": [
    {
     "name": "stdout",
     "output_type": "stream",
     "text": [
      "Optimal objective: 450.0\n",
      "\tX: 6.0\n",
      "\tY: 24.0\n"
     ]
    }
   ],
   "source": []
  },
  {
   "cell_type": "markdown",
   "metadata": {},
   "source": [
    "**Q3:** Consider the LP as in Q1 but now $X$ and $Y$ have to be integer multiples of 10. Formulate this as a MIP and solve it using Gurobi."
   ]
  },
  {
   "cell_type": "code",
   "execution_count": 3,
   "metadata": {},
   "outputs": [
    {
     "name": "stdout",
     "output_type": "stream",
     "text": [
      "Optimal objective: 500.0\n",
      "\tX: 10.0\n",
      "\tY: 20.0\n"
     ]
    }
   ],
   "source": []
  },
  {
   "cell_type": "markdown",
   "metadata": {},
   "source": [
    "**Q4:** Consider the production planning problem from Q1 with the following modifications:\n",
    "\n",
    "- All production quantities must be integers. \n",
    "- You have the additional ability to purchase more units of Material 1 at a cost of 3 per unit. However, you can only purchase them in batches of 9 units. \n",
    "- Producing any positive amounts of $X$ would incur a fixed cost of 100.\n",
    "- The number of units produced for $Y$ is either zero or at least 5.\n",
    "\n",
    "What is the optimal profit and how is it be achieved?"
   ]
  },
  {
   "cell_type": "code",
   "execution_count": 2,
   "metadata": {},
   "outputs": [
    {
     "name": "stdout",
     "output_type": "stream",
     "text": [
      "Optimal objective: 480.0\n",
      "\tX: 0.0\n",
      "\tY: 24.0\n"
     ]
    }
   ],
   "source": []
  }
 ],
 "metadata": {
  "kernelspec": {
   "display_name": "Python 3",
   "language": "python",
   "name": "python3"
  },
  "language_info": {
   "codemirror_mode": {
    "name": "ipython",
    "version": 3
   },
   "file_extension": ".py",
   "mimetype": "text/x-python",
   "name": "python",
   "nbconvert_exporter": "python",
   "pygments_lexer": "ipython3",
   "version": "3.7.2"
  }
 },
 "nbformat": 4,
 "nbformat_minor": 2
}
