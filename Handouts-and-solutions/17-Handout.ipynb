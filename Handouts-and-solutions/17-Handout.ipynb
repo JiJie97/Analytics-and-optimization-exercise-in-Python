{
 "cells": [
  {
   "cell_type": "markdown",
   "metadata": {},
   "source": [
    "# Session 17: Introduction to Linear Programming (LP)\n",
    "\n",
    "## Example: Production Planning\n",
    "\n",
    "**(DMD Ex. 7.2)** The Gemstone Tool Company (GTC) produces wrenches and pliers. Each product is made of steel, and requires using a Molding Machine and an Assembly Machine. The daily availability of each resource, as well as the resources required to produce one units of each tool, are shown below.\n",
    "\n",
    "| ` `| Wrench (1 unit) | Plier (1 unit) | Daily Availability |\n",
    "|--|--|--|--|\n",
    "|Steel | 1.5 lbs | 1.0 lbs | 27,000 lbs|\n",
    "|Molding Machine | 1.0 hours | 1.0 hours | 21,000 hours |\n",
    "|Assembly Machine| 0.3 hours | 0.5 hours | 9,000 hours |\n",
    "\n",
    "There is demand for 16,000 wrenches and 15,000 pliers per day. Each wrench earns a profit of .10 dollars and each plier earns a profit of .13 dollars. \n",
    "\n",
    "**a)** How much of each product should GTC produce each day and what is the maximum possible profit?\n",
    "\n",
    "**b)** How much additional profit can the company obtain if it had one additional unit of each of the three resources?"
   ]
  },
  {
   "cell_type": "markdown",
   "metadata": {},
   "source": [
    "### Step 1. Identify the decision, objective, and constraints in English\n",
    "\n",
    "**Decision:** \n",
    "\n",
    "**Objective:**\n",
    "\n",
    "**Constraints:** \n",
    "\n",
    "\n",
    "### Step 2. Formulate the optimization as linear expressions of decision variables\n",
    "\n",
    "**Decision Variables:** \n",
    "\n",
    "\n",
    "**Objective:**\n",
    "\n",
    "**Constraints:**\n",
    "\n",
    "### Step 3. Numerically solve using Gurobi"
   ]
  },
  {
   "cell_type": "code",
   "execution_count": 1,
   "metadata": {},
   "outputs": [
    {
     "name": "stdout",
     "output_type": "stream",
     "text": [
      "Academic license - for non-commercial use only\n",
      "Optimize a model with 5 rows, 2 columns and 8 nonzeros\n",
      "Coefficient statistics:\n",
      "  Matrix range     [3e-01, 2e+00]\n",
      "  Objective range  [1e-01, 1e-01]\n",
      "  Bounds range     [0e+00, 0e+00]\n",
      "  RHS range        [9e+03, 3e+04]\n",
      "Presolve removed 2 rows and 0 columns\n",
      "Presolve time: 0.00s\n",
      "Presolved: 3 rows, 2 columns, 6 nonzeros\n",
      "\n",
      "Iteration    Objective       Primal Inf.    Dual Inf.      Time\n",
      "       0    3.5100000e+03   3.375000e+03   0.000000e+00      0s\n",
      "       3    2.5050000e+03   0.000000e+00   0.000000e+00      0s\n",
      "\n",
      "Solved in 3 iterations and 0.00 seconds\n",
      "Optimal objective  2.505000000e+03\n"
     ]
    }
   ],
   "source": [
    "import gurobipy as grb\n",
    "mod=grb.Model()\n",
    "W=mod.addVar()\n",
    "P=mod.addVar()\n",
    "mod.setObjective(.1*W+.13*P,sense=grb.GRB.MAXIMIZE)\n",
    "steel=mod.addConstr(1.5*W+P <= 27000)\n",
    "molding=mod.addConstr(W+P <=21000)\n",
    "assembly=mod.addConstr(.3*W+.5*P<=9000)\n",
    "mod.addConstr(W<=16000)\n",
    "mod.addConstr(P<=15000)\n",
    "mod.optimize()"
   ]
  },
  {
   "cell_type": "code",
   "execution_count": 2,
   "metadata": {},
   "outputs": [
    {
     "name": "stdout",
     "output_type": "stream",
     "text": [
      "Optimal profit: 2505.0\n",
      "W: 7500.0\n",
      "P: 13500.0\n",
      "\n",
      "Shadow prices:\n",
      "Steel 0.0 \t valid RHS: 24750.0 to 1e+100\n",
      "Molding 0.055 \t valid RHS: 20000.0 to 22000.0\n",
      "Assembly 0.150 \t valid RHS: 8100.0 to 9300.0\n"
     ]
    }
   ],
   "source": [
    "print('Optimal profit:',mod.objval)\n",
    "print('W:',W.x)\n",
    "print('P:',P.x)\n",
    "print('\\nShadow prices:')\n",
    "print(f'Steel {steel.pi} \\t valid RHS: {steel.sarhslow} to {steel.sarhsup}')\n",
    "print(f'Molding {molding.pi :.3f} \\t valid RHS: {molding.sarhslow} to {molding.sarhsup}')\n",
    "print(f'Assembly {assembly.pi :.3f} \\t valid RHS: {assembly.sarhslow} to {assembly.sarhsup}')"
   ]
  },
  {
   "cell_type": "markdown",
   "metadata": {},
   "source": [
    "### Debugging by Outputing Formulation"
   ]
  },
  {
   "cell_type": "code",
   "execution_count": 3,
   "metadata": {},
   "outputs": [
    {
     "name": "stdout",
     "output_type": "stream",
     "text": [
      "\\ LP format - for model browsing. Use MPS format to capture full model detail.\r\n",
      "Maximize\r\n",
      "  0.1 C0 + 0.13 C1\r\n",
      "Subject To\r\n",
      " R0: 1.5 C0 + C1 <= 27000\r\n",
      " R1: C0 + C1 <= 21000\r\n",
      " R2: 0.3 C0 + 0.5 C1 <= 9000\r\n",
      " R3: C0 <= 16000\r\n",
      " R4: C1 <= 15000\r\n",
      "Bounds\r\n",
      "End\r\n"
     ]
    }
   ],
   "source": [
    "mod.write('GTC.lp')\n",
    "!cat GTC.lp"
   ]
  },
  {
   "cell_type": "code",
   "execution_count": 11,
   "metadata": {},
   "outputs": [
    {
     "name": "stdout",
     "output_type": "stream",
     "text": [
      "\\ LP format - for model browsing. Use MPS format to capture full model detail.\r\n",
      "Maximize\r\n",
      "  0.1 W + 0.13 P\r\n",
      "Subject To\r\n",
      " Steel: 1.5 W + P <= 27000\r\n",
      " Molding: W + P <= 21000\r\n",
      " Assembly: 0.3 W + 0.5 P <= 9000\r\n",
      " Demand-W: W <= 16000\r\n",
      " Demand-P: P <= 15000\r\n",
      "Bounds\r\n",
      "End\r\n"
     ]
    }
   ],
   "source": [
    "# Naming variables and constraints\n",
    "import gurobipy as grb\n",
    "mod=grb.Model()\n",
    "W=mod.addVar(name='W')\n",
    "P=mod.addVar(name='P')\n",
    "mod.setObjective(.1*W+.13*P,sense=grb.GRB.MAXIMIZE)\n",
    "steel=mod.addConstr(1.5*W+P <= 27000,name='Steel')\n",
    "molding=mod.addConstr(W+P <=21000,name='Molding')\n",
    "assembly=mod.addConstr(.3*W+.5*P<=9000,name='Assembly')\n",
    "mod.addConstr(W<=16000,name='Demand-W')\n",
    "mod.addConstr(P<=15000,name='Demand-P')\n",
    "mod.write('GTC.lp')\n",
    "!cat GTC.lp"
   ]
  },
  {
   "cell_type": "markdown",
   "metadata": {},
   "source": [
    "## Exercise: Transportation Planning\n",
    "\n",
    "There are 2 production plants, A and B, with capacities $20$ and $15$ respectively. There are 3 demand centers, 1, 2, 3, with demand of $10$ each. The cost of transporting each unit of good from each plant to each demand center is shown below.\n",
    "\n",
    "|` ` |1 | 2|3|\n",
    "|--|--|--|--|\n",
    "|A|3|7|5|\n",
    "|B|5|3|3|\n",
    "\n",
    "**a)** What is the minimum transportation cost needed to satisfy all demand while respecting plant capacities, and how would you achieve this cost? \n",
    "\n",
    "**b)** How would increasing one unit of capacity at each plant affect the optimal cost?\n",
    "\n",
    "**c)** How would increasing one unit of demand at each center affect the optimal cost?\n",
    "\n",
    "### Step 1. Identify the decision, objective, and constraints in English\n",
    "\n",
    "**Decision:** \n",
    "\n",
    "**Objective:**\n",
    "\n",
    "**Constraints:**\n",
    "\n",
    "\n",
    "### Step 2. Formulate the optimization as linear expressions of decision variables\n",
    "\n",
    "**Decision variables:** \n",
    "\n",
    "**Objective and Constraints:** \n",
    "\n",
    "### Step 3. Numerically solve using Gurobi"
   ]
  },
  {
   "cell_type": "code",
   "execution_count": 6,
   "metadata": {},
   "outputs": [
    {
     "name": "stdout",
     "output_type": "stream",
     "text": [
      "A) Minimal cost: 100.0\n",
      "Optimal transportation plan:\n",
      "\tA1: 10.0\n",
      "\tA2: 0.0\n",
      "\tA3: 5.0\n",
      "\tB1: 0.0\n",
      "\tB2: 10.0\n",
      "\tB3: 5.0\n"
     ]
    }
   ],
   "source": []
  },
  {
   "cell_type": "code",
   "execution_count": 7,
   "metadata": {},
   "outputs": [
    {
     "name": "stdout",
     "output_type": "stream",
     "text": [
      "B) Effect of adding 1 unit of plant capacity\n",
      "\t Plant A: 0.0 \tValid RHS: 15.0 to 1e+100\n",
      "\t Plant B: -2.0 \tValid RHS: 10.0 to 20.0\n"
     ]
    }
   ],
   "source": []
  },
  {
   "cell_type": "code",
   "execution_count": 8,
   "metadata": {},
   "outputs": [
    {
     "name": "stdout",
     "output_type": "stream",
     "text": [
      "C) Effect of demand increase by 1 unit\n",
      "\t Center 1: 3.0 \tValid RHS: -0.0 to 15.0\n",
      "\t Center 2: 5.0 \tValid RHS: 5.0 to 15.0\n",
      "\t Center 3: 5.0 \tValid RHS: 5.0 to 15.0\n"
     ]
    }
   ],
   "source": []
  }
 ],
 "metadata": {
  "kernelspec": {
   "display_name": "Python 3",
   "language": "python",
   "name": "python3"
  },
  "language_info": {
   "codemirror_mode": {
    "name": "ipython",
    "version": 3
   },
   "file_extension": ".py",
   "mimetype": "text/x-python",
   "name": "python",
   "nbconvert_exporter": "python",
   "pygments_lexer": "ipython3",
   "version": "3.7.2"
  }
 },
 "nbformat": 4,
 "nbformat_minor": 2
}
