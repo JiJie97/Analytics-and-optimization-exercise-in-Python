{
 "cells": [
  {
   "cell_type": "markdown",
   "metadata": {},
   "source": [
    "# Homework 6\n",
    "\n",
    "**Name:** Ji Jie"
   ]
  },
  {
   "cell_type": "markdown",
   "metadata": {},
   "source": [
    "## Typesetting LPs using Latex\n",
    "\n",
    "The following example illustrates how to nicely display a linear programming (LP) formulation using Latex in a Markdown cell in Jupyter notebook.\n",
    "\n",
    "**Decision variable:** Let $X$ and $Y$ denote the amount of product X and product Y to produce. \n",
    "\n",
    "**Objective and constraints:**\n",
    "$$\\begin{aligned}\n",
    "\\text{maximize} && 20X+10Y \\\\\n",
    "\\text{subject to:} \\\\\n",
    "\\text{(Material 1)} && 4X+Y & \\le 60 \\\\\n",
    "\\text{(Material 2)} && 2Y & \\le 48 \\\\\n",
    "\\text{(Labor)} && X+Y & \\le 30 \\\\\n",
    "\\text{(Non-negativity)} && X,Y & \\ge 0\n",
    "\\end{aligned}$$\n",
    "\n",
    "Notice that the variables $X$ and $Y$ are in a special font denoting mathematical variables. Moreover, notice that the linear program above is centered and aligned, both at the colons and at the signs ($\\le$ and $\\ge$). It is useful to learn to do such formating in Markdown in order to better communicate your LP formulations to others.\n",
    "\n",
    "Double click this Markdown cell to see the code that created the math. Then execute the cell again to render it."
   ]
  },
  {
   "cell_type": "markdown",
   "metadata": {},
   "source": [
    "### Explanation of above\n",
    "\n",
    "To make the linear program aligned, we not only use the double dollar signs, but also use the `\\begin{aligned} \\end{aligned}` commands. (Double click the linear program above to see the code.) Within this block of LaTex script,\n",
    "\n",
    "- `\\text{ }` is for displaying the enclosed string as plain text, without the mathematical rendering.\n",
    "- `&` is for alignment. The convention is right align before the first `&`, then left align between the first and second `&` of each line, then right align again between the second and third `&` and so on. Hence, to make it right aligned both before and after the colon, we use a double `&&` after the `\\text{}`. If this is confusing, you can simply copy this convention for this homework (`&&` after the explanation of constraint, and `&` before the sign). \n",
    "- `\\\\` is for creating a new line. Notice that we end the line early using `\\\\` for \"subject to\" and \"maximize\".\n",
    "- `\\le` (less than or equal to) is for $\\le$, and `\\ge` (greater than or equal to) is for $\\ge$. This looks better than $<=$ and $>=$.\n",
    "- `\\qquad` is for creating spacing within a line.\n",
    "\n",
    "**Unfortunately, it is difficult to debug LaTex within Jupyter notebook. Hence, if there is any error at all, then the LaTex will not render and you will see your original script.** When this happens, try to render one line at a time and see which line is causing the error. You can see more examples from all the posted in-class handouts. (Download the .ipynb file by viewing the handout note on NBViewer and clicking the download button to the top right of the screen.)"
   ]
  },
  {
   "cell_type": "markdown",
   "metadata": {},
   "source": [
    "## Q1. LP Geometry\n",
    "\n",
    "**a)** Solve the following LP graphically (without using Gurobi). You can simply write the answer below instead of attaching your drawing. However, you will need to be able to do similar questions on a quiz or an exam. \n",
    "\n",
    "$$\\begin{aligned}\n",
    "\\text{Minimize} &&  10X-Y \\\\\n",
    "\\text{subject to:} \\\\\n",
    "&& 2Y-X & \\le 14 \\\\\n",
    "&& 3X -Y & \\le 18 \\\\\n",
    "&& X+Y & \\ge 10 \\\\\n",
    "&& X, Y & \\ge 0\n",
    "\\end{aligned}$$"
   ]
  },
  {
   "cell_type": "code",
   "execution_count": null,
   "metadata": {},
   "outputs": [],
   "source": []
  },
  {
   "cell_type": "code",
   "execution_count": null,
   "metadata": {},
   "outputs": [],
   "source": []
  },
  {
   "cell_type": "markdown",
   "metadata": {},
   "source": [
    "$$\\begin{aligned}\n",
    "\\text (X,Y) = (7,3) \\\\\n",
    "\\text{Min} = 67\n",
    "\\end{aligned}$$"
   ]
  },
  {
   "cell_type": "markdown",
   "metadata": {},
   "source": [
    "**b)** Solve the following LP graphically (without using Gurobi) and write the optimal solution below (you don't have to attach your drawing). \n",
    "\n",
    "$$\\begin{aligned} & \\text{Maximize} & 2X+10Y \\\\\n",
    "& \\text{subject to:} \\\\\n",
    "& \\text{(Material 1)} & X+2Y & \\le 6 \\\\\n",
    "& \\text{(Material 2)} & 3Y & \\le 6 \\\\\n",
    "& \\text{(Non-negativity)} & X, Y & \\ge 0\n",
    "\\end{aligned}$$"
   ]
  },
  {
   "cell_type": "code",
   "execution_count": null,
   "metadata": {},
   "outputs": [],
   "source": []
  },
  {
   "cell_type": "code",
   "execution_count": null,
   "metadata": {},
   "outputs": [],
   "source": []
  },
  {
   "cell_type": "markdown",
   "metadata": {},
   "source": [
    "$$\\begin{aligned}\n",
    "\\text (X,Y) = (2,2) \\\\\n",
    "\\text{Min} = 24\n",
    "\\end{aligned}$$"
   ]
  },
  {
   "cell_type": "markdown",
   "metadata": {},
   "source": [
    "## Q2. Production Planning\n",
    "\n",
    "**(DMD Exercise 7.2)** The Magnetron Company manufactures and markets microwave ovens. Currently, the company produces two models: full-size and compact. Production is limited by the amount of labor available in the general assembly and electronic assembly departments, as well as by the demand for each model. Each full-size oven requires 2 hours of general assembly and 2 hours of electronic assembly, whereas each compact oven requires 1 hour of general assembly and 3 hours of electronic assembly. In the current production period, there are 500 hours of general assembly labor available and 800 hours of electronic assembly labor available. \n",
    "\n",
    "In additional, the company estimates that it can sell at most 220 full-size ovens and 180 compact ovens in the current production period. The earnings contribution per oven is 120 dollars for a full-size oven and 130 dollars for a compact oven. The company would like to find an earnings-maximizing production plan for the current production period. \n",
    "\n",
    "**A)** Formulate the above problem as a LP. (You must type your formulation into a Markdown cell following the typesetting instructions above. \n",
    "\n",
    "\n",
    "**For parts B) and C), you should plot by hand on a scrap piece of paper. You do not have to submit your hand drawing, but you need to learn to do this for a quiz or an exam.**\n",
    "\n",
    "**B)** Solve the LP graphically. What is the optimal solution and the optimal objective value? What constraints are binding at the optimal solution?\n",
    "\n",
    "**C)** Consider the general assembly labor constraint. Suppose that the number 500 was changed to 510, re-solve the equations of the binding constraints to compute the new optimal solution. What is the difference in the optimal objective value? Divide this by 10 to find the marginal value of 1 unit of additional general assembly labor (which is the shadow price of this constraint). \n",
    "\n",
    "\n",
    "\n"
   ]
  },
  {
   "cell_type": "markdown",
   "metadata": {},
   "source": [
    "### a)"
   ]
  },
  {
   "cell_type": "markdown",
   "metadata": {},
   "source": [
    " \n",
    "$$\\begin{aligned} & \\text{Maximize} & 120X+130Y \\\\\n",
    "& \\text{subject to:} \\\\\n",
    "& \\text{(Labor 1)} & 2X+Y & \\le 500 \\\\\n",
    "& \\text{(Labor 2)} & 2X+3Y & \\le 800 \\\\\n",
    "& \\text{(Sales 1)} & X & \\le 220 \\\\\n",
    "& \\text{(Sales 2)} & Y & \\le 180 \\\\\n",
    "& \\text{(Non-negativity)} & X, Y & \\ge 0\n",
    "\\end{aligned}$$"
   ]
  },
  {
   "cell_type": "markdown",
   "metadata": {},
   "source": [
    "### b)"
   ]
  },
  {
   "cell_type": "markdown",
   "metadata": {},
   "source": [
    "X = 175\n",
    "Y = 150\n",
    "Max = 40500"
   ]
  },
  {
   "cell_type": "markdown",
   "metadata": {},
   "source": [
    "### c)"
   ]
  },
  {
   "cell_type": "markdown",
   "metadata": {},
   "source": [
    "X = 182.5\n",
    "Y = 145\n",
    "Max = 40750\n",
    "\n",
    "shadow price = 25"
   ]
  },
  {
   "cell_type": "code",
   "execution_count": null,
   "metadata": {},
   "outputs": [],
   "source": []
  }
 ],
 "metadata": {
  "kernelspec": {
   "display_name": "Python 3",
   "language": "python",
   "name": "python3"
  },
  "language_info": {
   "codemirror_mode": {
    "name": "ipython",
    "version": 3
   },
   "file_extension": ".py",
   "mimetype": "text/x-python",
   "name": "python",
   "nbconvert_exporter": "python",
   "pygments_lexer": "ipython3",
   "version": "3.7.6"
  },
  "varInspector": {
   "cols": {
    "lenName": 16,
    "lenType": 16,
    "lenVar": 40
   },
   "kernels_config": {
    "python": {
     "delete_cmd_postfix": "",
     "delete_cmd_prefix": "del ",
     "library": "var_list.py",
     "varRefreshCmd": "print(var_dic_list())"
    },
    "r": {
     "delete_cmd_postfix": ") ",
     "delete_cmd_prefix": "rm(",
     "library": "var_list.r",
     "varRefreshCmd": "cat(var_dic_list()) "
    }
   },
   "types_to_exclude": [
    "module",
    "function",
    "builtin_function_or_method",
    "instance",
    "_Feature"
   ],
   "window_display": false
  }
 },
 "nbformat": 4,
 "nbformat_minor": 2
}
