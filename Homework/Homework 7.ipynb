{
 "cells": [
  {
   "cell_type": "markdown",
   "metadata": {},
   "source": [
    "# Homework 7\n",
    "\n",
    "**Name:** Ji Jie"
   ]
  },
  {
   "cell_type": "markdown",
   "metadata": {},
   "source": [
    "For the LP or MIP formulations, you need to typeset them nicely in Markdown using Latex, following the typesetting instructions in Homework 6. \n",
    "\n",
    "## Q1 (Transportation Planning)\n",
    "\n",
    "There are 2 production plants, A and B, with capacities $20$ and $15$ respectively. There are 3 demand centers, 1, 2, 3, with demand of $10$ each. The cost of transporting each unit of good from each plant to each demand center is shown below.\n",
    "\n",
    "|` ` |1 | 2|3|\n",
    "|--|--|--|--|\n",
    "|A|3|7|5|\n",
    "|B|5|3|3|\n",
    "\n",
    "**a)** What is the minimum transportation cost needed to satisfy all demand while respecting plant capacities, and how would you achieve this cost? \n",
    "\n",
    "**b)** How would increasing one unit of capacity at each plant affect the optimal cost?\n",
    "\n",
    "**c)** How would increasing one unit of demand at each center affect the optimal cost?\n"
   ]
  },
  {
   "cell_type": "markdown",
   "metadata": {},
   "source": [
    "a)\n",
    "\n",
    "**Objective and constraints:**\n",
    "$$\\begin{aligned}\n",
    "\\text{minimize} && 3X_{a1} + 7X_{a2} + 5X_{a3} + 5X_{b1} + 3X_{b2} + 3X_{b3} \\\\\n",
    "\\text{subject to:} \\\\\n",
    "\\text{(Plant A)} && X_{a1} + X_{a2} + X_{a3} & \\le 20 \\\\\n",
    "\\text{(Plant B)} && X_{b1} + X_{b2} + X_{b3} & \\le 15 \\\\\n",
    "\\text{(Center 1)} && X_{a1} + X_{b1} & = 10 \\\\\n",
    "\\text{(Center 2)} && X_{a2} + X_{b2} & = 10 \\\\\n",
    "\\text{(Center 3)} && X_{a3} + X_{b3} & = 10 \\\\\n",
    "\\text{(Non-negativity)} && X_{ij}, & \\ge 0\n",
    "\\end{aligned}$$"
   ]
  },
  {
   "cell_type": "code",
   "execution_count": 6,
   "metadata": {},
   "outputs": [],
   "source": [
    "from gurobipy import Model, GRB\n",
    "mod=Model()\n",
    "XA1=mod.addVar(lb=0)\n",
    "XA2=mod.addVar(lb=0)\n",
    "XA3=mod.addVar(lb=0)\n",
    "XB1=mod.addVar(lb=0)\n",
    "XB2=mod.addVar(lb=0)\n",
    "XB3=mod.addVar(lb=0)\n",
    "mod.setObjective(3*XA1 + 7*XA2 + 5*XA3 + 5*XB1 + 3*XB2 + 3*XB3)\n",
    "plantA=mod.addConstr(XA1 + XA2 + XA3 <= 20)\n",
    "plantB=mod.addConstr(XB1 + XB2 + XB3 <= 15)\n",
    "center1=mod.addConstr(XA1 + XB1 == 10)\n",
    "center2=mod.addConstr(XA2 + XB2 == 10)\n",
    "center3=mod.addConstr(XA3 + XB3 == 10)\n",
    "mod.setParam('OutputFlag',False)\n",
    "mod.optimize()"
   ]
  },
  {
   "cell_type": "code",
   "execution_count": 7,
   "metadata": {},
   "outputs": [
    {
     "data": {
      "text/plain": [
       "100.0"
      ]
     },
     "execution_count": 7,
     "metadata": {},
     "output_type": "execute_result"
    }
   ],
   "source": [
    "mod.objval"
   ]
  },
  {
   "cell_type": "code",
   "execution_count": 8,
   "metadata": {},
   "outputs": [
    {
     "name": "stdout",
     "output_type": "stream",
     "text": [
      "\txA1=10.0 xA2=0.0 xA3=5.0\n",
      "\txB1=0.0 xB2=10.0 xB3=5.0\n"
     ]
    }
   ],
   "source": [
    "print(f'\\txA1={XA1.x} xA2={XA2.x} xA3={XA3.x}')\n",
    "print(f'\\txB1={XB1.x} xB2={XB2.x} xB3={XB3.x}')"
   ]
  },
  {
   "cell_type": "code",
   "execution_count": 9,
   "metadata": {},
   "outputs": [
    {
     "name": "stdout",
     "output_type": "stream",
     "text": [
      "\t Plant A Shadow Price=0.0 Valid when RHS is in [15.0,inf]\n"
     ]
    }
   ],
   "source": [
    "print(f'\\t Plant A Shadow Price={plantA.pi} Valid when RHS is in [{plantA.sarhslow},{plantA.sarhsup}]')"
   ]
  },
  {
   "cell_type": "code",
   "execution_count": 10,
   "metadata": {},
   "outputs": [
    {
     "name": "stdout",
     "output_type": "stream",
     "text": [
      "\t Plant B Shadow Price=-2.0 Valid when RHS is in [10.0,20.0]\n"
     ]
    }
   ],
   "source": [
    "print(f'\\t Plant B Shadow Price={plantB.pi} Valid when RHS is in [{plantB.sarhslow},{plantB.sarhsup}]')"
   ]
  },
  {
   "cell_type": "code",
   "execution_count": 11,
   "metadata": {},
   "outputs": [
    {
     "name": "stdout",
     "output_type": "stream",
     "text": [
      "\t Center 1 Shadow Price=3.0 Valid when RHS is in [0.0,15.0]\n",
      "\t Center 2 Shadow Price=5.0 Valid when RHS is in [5.0,15.0]\n",
      "\t Center 3 Shadow Price=5.0 Valid when RHS is in [5.0,15.0]\n"
     ]
    }
   ],
   "source": [
    "print(f'\\t Center 1 Shadow Price={center1.pi} Valid when RHS is in [{center1.sarhslow},{center1.sarhsup}]')\n",
    "print(f'\\t Center 2 Shadow Price={center2.pi} Valid when RHS is in [{center2.sarhslow},{center2.sarhsup}]')\n",
    "print(f'\\t Center 3 Shadow Price={center3.pi} Valid when RHS is in [{center3.sarhslow},{center3.sarhsup}]')"
   ]
  },
  {
   "cell_type": "markdown",
   "metadata": {},
   "source": [
    "## Q2 (Production Planning)\n",
    "\n",
    "**DMD Exercise 7.8** Nature's best Frozen Foods company produces four different mixes of frozen ready-to-eat vegetables. The mixes const of five different vegetables: carrots, mushrooms, green peppers, broccoli, and corn. The company manufacturers four different mixes each sold in 10 oz. bags. The mixes are \"Stir Fry\", \"Barbecue\", \"Hearty Mushrooms\" and \"Veggie Crunch,\" and their contributions to earnings (per bag) are 0.22, 0.20, 0.18 and 0.18 respectively. The monthly supplies of carrots, mushrooms, green peppers, broccoli and corn are 150,000 oz., 80,000 oz., 135,000 oz., 140,000 oz., and 150,000 oz. per month, respectively. The compositions of the mixes are shown in the table below. For example, one bag of \"Stir Fry\" mix contains 2.5 oz. of carrots, 3.0 oz. of mushrooms, 2.5 oz. of green peppers, 2.0 oz. of broccoli, and no corn. \n",
    "\n",
    "|` `| Stir Fry | Barbecue | Hearty Mushrooms | Veggie Crunch |\n",
    "|--|--|--|--|--|\n",
    "|Carrots | 2.5 | 2.0 | - | 2.5 |\n",
    "|Mushrooms | 3.0 | - | 4.0 | - |\n",
    "|Green Peppers | 2.5 | 2.0 | 3 | 2.5 |\n",
    "|Broccoli | 2.0 | 3.0 | 3.0 | 2.5 |\n",
    "|Corn | - | 3.0 | - | 2.5 |\n",
    "\n",
    "Construct a LP to determine the optimal product mix to maximize total earnings. (You need to write the math formulation in a Markdown cell following the typesetting instructions at the top of this homework.) Solve this LP using Gurobi. What is the optimal product mix and the optimal objective value? What is the value of an extra ounce of green peppers?"
   ]
  },
  {
   "cell_type": "markdown",
   "metadata": {},
   "source": [
    "**Objective and constraints:**\n",
    "$$\\begin{aligned}\n",
    "\\text{maximize} && 0.22X_1 + 0.20X_2 + 0.18X_3 + 0.18X_4 \\\\\n",
    "\\text{subject to:} \\\\\n",
    "\\text{(Carrot)} && 2.5X_1 + 2.0X_2 + 2.5X_4 & \\le 150000 \\\\\n",
    "\\text{(Mushroom)} && 3.0X_1 + 4.0X_3 & \\le 80000 \\\\\n",
    "\\text{(Green Pepper)} && 2.5X_1 + 2.0X_2 + 3.0X_3 + 2.5X_4 & \\le 135000 \\\\\n",
    "\\text{(Broccoli)} && 2.0X_1 + 3.0X_2 + 3.0X_3 + 2.5X_4 & \\le 140000 \\\\\n",
    "\\text{(Corn)} && 3.0X_2 + 2.5X_4 & \\le 150000 \\\\\n",
    "\\text{(Non-negativity)} && X_{i} & \\ge 0\n",
    "\\end{aligned}$$"
   ]
  },
  {
   "cell_type": "code",
   "execution_count": 28,
   "metadata": {},
   "outputs": [],
   "source": [
    "from gurobipy import Model, GRB\n",
    "mod=Model()\n",
    "X1=mod.addVar(lb=0,vtype=GRB.INTEGER)\n",
    "X2=mod.addVar(lb=0,vtype=GRB.INTEGER)\n",
    "X3=mod.addVar(lb=0,vtype=GRB.INTEGER)\n",
    "X4=mod.addVar(lb=0,vtype=GRB.INTEGER)\n",
    "mod.setObjective(0.22*X1 + 0.2*X2 + 0.18*X3 + 0.18*X4, sense=GRB.MAXIMIZE)\n",
    "carrot=mod.addConstr(2.5*X1+2*X2+2.5*X4 <= 150000)\n",
    "mushroom=mod.addConstr(3*X1+4*X3 <= 80000)\n",
    "greenPepper=mod.addConstr(2.5*X1+2*X2+3*X3+2.5*X4 <= 135000)\n",
    "broccoli=mod.addConstr(2*X1+3*X2+3*X3+2.5*X4 <= 140000)\n",
    "corn=mod.addConstr(3*X2+2.5*X4 <= 150000)\n",
    "mod.setParam('OutputFlag',False)\n",
    "mod.optimize()"
   ]
  },
  {
   "cell_type": "code",
   "execution_count": 29,
   "metadata": {},
   "outputs": [
    {
     "data": {
      "text/plain": [
       "11813.18"
      ]
     },
     "execution_count": 29,
     "metadata": {},
     "output_type": "execute_result"
    }
   ],
   "source": [
    "mod.objval"
   ]
  },
  {
   "cell_type": "code",
   "execution_count": 30,
   "metadata": {},
   "outputs": [
    {
     "name": "stdout",
     "output_type": "stream",
     "text": [
      "\tStir Fry=26666.0 Barbecue=18333.0 Hearty Mushrooms=-0.0 Veggie Crunch=12667.0\n"
     ]
    }
   ],
   "source": [
    "print(f'\\tStir Fry={X1.x} Barbecue={X2.x} Hearty Mushrooms={X3.x} Veggie Crunch={X4.x}')\n"
   ]
  },
  {
   "cell_type": "code",
   "execution_count": 44,
   "metadata": {},
   "outputs": [],
   "source": [
    "from gurobipy import Model, GRB\n",
    "mod=Model()\n",
    "X1=mod.addVar(lb=0,vtype=GRB.INTEGER)\n",
    "X2=mod.addVar(lb=0,vtype=GRB.INTEGER)\n",
    "X3=mod.addVar(lb=0,vtype=GRB.INTEGER)\n",
    "X4=mod.addVar(lb=0,vtype=GRB.INTEGER)\n",
    "mod.setObjective(0.22*X1 + 0.2*X2 + 0.18*X3 + 0.18*X4, sense=GRB.MAXIMIZE)\n",
    "carrot=mod.addConstr(2.5*X1+2*X2+2.5*X4 <= 150000)\n",
    "mushroom=mod.addConstr(3*X1+4*X3 <= 80000)\n",
    "greenPepper=mod.addConstr(2.5*X1+2*X2+3*X3+2.5*X4 <= 135002)\n",
    "broccoli=mod.addConstr(2*X1+3*X2+3*X3+2.5*X4 <= 140000)\n",
    "corn=mod.addConstr(3*X2+2.5*X4 <= 150000)\n",
    "mod.setParam('OutputFlag',False)\n",
    "mod.optimize()"
   ]
  },
  {
   "cell_type": "code",
   "execution_count": 45,
   "metadata": {},
   "outputs": [
    {
     "data": {
      "text/plain": [
       "11813.320000000002"
      ]
     },
     "execution_count": 45,
     "metadata": {},
     "output_type": "execute_result"
    }
   ],
   "source": [
    "mod.objval"
   ]
  },
  {
   "cell_type": "code",
   "execution_count": 39,
   "metadata": {},
   "outputs": [
    {
     "name": "stdout",
     "output_type": "stream",
     "text": [
      "\tStir Fry=26666.0 Barbecue=18331.0 Hearty Mushrooms=-0.0 Veggie Crunch=12670.0\n"
     ]
    }
   ],
   "source": [
    "print(f'\\tStir Fry={X1.x} Barbecue={X2.x} Hearty Mushrooms={X3.x} Veggie Crunch={X4.x}')\n"
   ]
  },
  {
   "cell_type": "markdown",
   "metadata": {},
   "source": [
    "## Q3 (Portfolio Planning)\n",
    "\n",
    "**(DMD Exercise 7.12)** An investor is considering allocating 10,000 dollars among five investment alternatives. The five alternatives and their respective fund categories, risk levels, and average annual returns are shown below. \n",
    "\n",
    "| Fund | Category | Risk Level | Average Annual Return |\n",
    "|--|--|--|--|\n",
    "| A | Money Market | 1 | 4.50\\% |\n",
    "| B | Money Market | 2 | 5.62 \\% |\n",
    "| C | Bond | 2 | 6.80\\% |\n",
    "| D | Bond | 3 | 10.15\\% |\n",
    "| E | Aggressive Growth | 5 | 20.60\\% |\n",
    "\n",
    "The risk level of each fund is rated on a scale of 1 to 5, where 1 is very conservative and 5 is very risky. The investor would like to maximize the average annual return of the portfolio subject to the following restrictions: \n",
    "\n",
    "1. The average risk level of the entire investment should not exceed 2.5\n",
    "\n",
    "2. At least 30\\% of the investment should be placed in money market funds.\n",
    "\n",
    "3. At most 2,000 dollars should be invested in the aggressive growth fund.\n",
    "\n",
    "Construct and solve a LP to determine the optimal allocation of the investor's money. "
   ]
  },
  {
   "cell_type": "markdown",
   "metadata": {},
   "source": [
    "**Objective and constraints:**\n",
    "$$\\begin{aligned}\n",
    "\\text{maximize} && 4.5X_1 + 5.62X_2 + 6.8X_3 + 10.15X_4 + 20.60X_5\\\\\n",
    "\\text{subject to:} \\\\\n",
    "\\text{(Constraint 1)} && X_1 + X_2 + X_3 + X_4 + X_5 & \\le 10000 \\\\\n",
    "\\text{(Constraint 2)} && X_1 + 2X_2 + 2X_3 + 3X_4 + 5X_5 & \\le 25000 \\\\\n",
    "\\text{(Constraint 3)} && X_1 + X_2 & \\ge 3000 \\\\\n",
    "\\text{(Constraint 4)} && X_5 & \\le 2000 \\\\\n",
    "\\text{(Non-negativity)} && X_{i} & \\ge 0\n",
    "\\end{aligned}$$"
   ]
  },
  {
   "cell_type": "code",
   "execution_count": 51,
   "metadata": {},
   "outputs": [],
   "source": [
    "from gurobipy import Model, GRB\n",
    "mod=Model()\n",
    "X1=mod.addVar(lb=0)\n",
    "X2=mod.addVar(lb=0)\n",
    "X3=mod.addVar(lb=0)\n",
    "X4=mod.addVar(lb=0)\n",
    "X5=mod.addVar(lb=0)\n",
    "mod.setObjective(4.5*X1 + 5.62*X2 + 6.8*X3 + 10.15*X4 + 20.6*X5, sense=GRB.MAXIMIZE)\n",
    "constr1=mod.addConstr(X1 + X2 + X3 + X4 + X5 <= 10000)\n",
    "constr2=mod.addConstr(X1 + 2*X2 + 2*X3 + 3*X4 + 5*X5 <= 25000)\n",
    "constr3=mod.addConstr(X1 + X2 >= 3000)\n",
    "constr4=mod.addConstr(X5 <= 2000)\n",
    "\n",
    "\n",
    "mod.setParam('OutputFlag',False)\n",
    "mod.optimize()"
   ]
  },
  {
   "cell_type": "code",
   "execution_count": 52,
   "metadata": {},
   "outputs": [
    {
     "data": {
      "text/plain": [
       "96975.0"
      ]
     },
     "execution_count": 52,
     "metadata": {},
     "output_type": "execute_result"
    }
   ],
   "source": [
    "mod.objval"
   ]
  },
  {
   "cell_type": "code",
   "execution_count": 53,
   "metadata": {},
   "outputs": [
    {
     "name": "stdout",
     "output_type": "stream",
     "text": [
      "\tA=4500.0 B=0.0 C=0.0 D=3500.0 E=2000.0\n"
     ]
    }
   ],
   "source": [
    "print(f'\\tA={X1.x} B={X2.x} C={X3.x} D={X4.x} E={X5.x}')\n"
   ]
  },
  {
   "cell_type": "markdown",
   "metadata": {},
   "source": [
    "## Q4 (Project Sub-Contracting)\n",
    "\n",
    "Tom Burke, owner of Burke Construction, has promised to complete five projects this winter. Burke Construction has 10 workers that will work 40 hours a week for 12 weeks this winter. Since this is a limited workforce, Tom knows that he will not be able to complete all of his construction projects without subcontracting some of them. In the table below, he has estimated the amount of labor hours required by each project, and the profit to his company. \n",
    "\n",
    "| Project | 1 | 2 | 3 | 4 | 5 |\n",
    "|--|--|--|--|--|--|\n",
    "| Labor hours required | 1300 | 950 | 1000 | 1400 | 1600 |\n",
    "| Profit (if done by own company) | \\$30,000 | \\$10,000 | \\$26,000 | \\$18,000 | \\$20,000 |\n",
    "| Profit (if subcontracted) | \\$6,000 | \\$2,000 | \\$8,000 | \\$9,000 | \\$4,500 |\n",
    "\n",
    "To maximize profit, which jobs should Tom schedule for his company, and which should be subcontracted? (Formulate this as an optimization problem and solve it.) Assume that projects cannot be partially subcontracted; that is, a project will be completed entirely by either Burke Construction or the subcontractor."
   ]
  },
  {
   "cell_type": "code",
   "execution_count": 40,
   "metadata": {},
   "outputs": [],
   "source": [
    "from gurobipy import Model, GRB\n",
    "mod=Model()\n",
    "X1=mod.addVar(lb=0,ub=1,vtype=GRB.INTEGER)\n",
    "X2=mod.addVar(lb=0,ub=1,vtype=GRB.INTEGER)\n",
    "X3=mod.addVar(lb=0,ub=1,vtype=GRB.INTEGER)\n",
    "X4=mod.addVar(lb=0,ub=1,vtype=GRB.INTEGER)\n",
    "X5=mod.addVar(lb=0,ub=1,vtype=GRB.INTEGER)\n",
    "\n",
    "mod.setObjective(24000*X1 + 8000*X2 + 18000*X3 + 9000*X4 + 15500*X5 + 29500, sense=GRB.MAXIMIZE)\n",
    "labor=mod.addConstr(1300*X1 + 950*X2 + 1000*X3 + 1400*X4 + 1600*X5 <= 4800)\n",
    "\n",
    "mod.setParam('OutputFlag',False)\n",
    "mod.optimize()"
   ]
  },
  {
   "cell_type": "code",
   "execution_count": 44,
   "metadata": {},
   "outputs": [
    {
     "data": {
      "text/plain": [
       "88500.0"
      ]
     },
     "execution_count": 44,
     "metadata": {},
     "output_type": "execute_result"
    }
   ],
   "source": [
    "mod.objval"
   ]
  },
  {
   "cell_type": "code",
   "execution_count": 42,
   "metadata": {},
   "outputs": [
    {
     "name": "stdout",
     "output_type": "stream",
     "text": [
      "\t1=1.0 2=1.0 3=1.0 4=1.0 5=0.0\n"
     ]
    }
   ],
   "source": [
    "print(f'\\t1={X1.x} 2={X2.x} 3={X3.x} 4={X4.x} 5={X5.x}')\n"
   ]
  },
  {
   "cell_type": "markdown",
   "metadata": {},
   "source": [
    "## Q5 (Optimal Advertising Plan)\n",
    "\n",
    "SALS Marketing Inc. is developing an advertising campaign for a large consumer goods corporation. SALS has promised a plan that will yield the highest possible “exposure rating,” a measure of the ability to reach the appropriate demographic group and generate demand. The options for advertisements with their respective costs (per unit of advertising) and per-unit exposure ratings are given in the table below (K stands for thousands). \n",
    "\n",
    "| Category | Subcategory | Cost/Unit | Exposure/Unit |\n",
    "|--|--|--|--|\n",
    "| Magazines | Literary | \\$7.5 K | 15 K |\n",
    "| ` ` | News | \\$10 K | 22.5 K |\n",
    "| ` ` | Topical | \\$15 K | 24 K |\n",
    "| Newspapers |  Morning | \\$2 K | 37.5 K |\n",
    "|` `  | Evening | \\$3 K | 75 K |\n",
    "| Television | Morning | \\$20 K | 275 K |\n",
    "| ` ` | Midday | \\$10 K | 180 K |\n",
    "| ` `  | Evening | \\$60 K | 810 K |\n",
    "| Radio | Morning | \\$15 K | 180 K |\n",
    "| ` ` | Midday | \\$15 K | 17 K |\n",
    "| ` ` | Evening | \\$10 K | 16 K |\n",
    "\n",
    "Of course, certain restrictions exist for the advertising campaign. The client corporation has budgeted 800,000 dollars for the campaign, but to restrict overexposure to any particular audience it wants no more than 300,000 dollars put into any one category (Magazine, Newspaper, etc.). Also, to ensure a broad range of exposure, at least 100,000 dollars must be spent in each category. \n",
    "\n",
    "Formulate this problem as a MIP (which you must typeset nicely) and solve using Gurobi to find the optimal advertising plan. For this question, you can only purchase integer number of units. (Hint on typesetting: you can break a long expression into multiple lines using `\\\\` and control alignment using `&`.)"
   ]
  },
  {
   "cell_type": "markdown",
   "metadata": {},
   "source": [
    "**Objective and constraints:**\n",
    "$$\\begin{aligned}\n",
    "\\text{maximize} && 15X_{M1} + 22.5X_{M2} + 24X_{M3} \\\\\n",
    "&& + 37.5X_{N1} + 75X_{N2} \\\\\n",
    "&& + 275X_{T1} + 180X_{T2} + 810X_{T3} \\\\\n",
    "&&+ 180X_{R1} + 17X_{R2} + 16X_{R3}\\\\\n",
    "\\text{subject to:} \\\\\n",
    "\\text{(Magzine 1)} && 7.5X_{M1} + 10X_{M2} + 15X_{M3} & \\le 300 \\\\\n",
    "\\text{(Magzine 2)} && 7.5X_{M1} + 10X_{M2} + 15X_{M3} & \\ge 100 \\\\\n",
    "\\text{(Newspaper 1)} && 2X_{N1} + 3X_{N2} & \\le 300 \\\\\n",
    "\\text{(Newspaper 2)} && 2X_{N1} + 3X_{N2} & \\ge 100 \\\\\n",
    "\\text{(Television 1)} && 20X_{T1} + 10X_{T2} + 60X_{T3} & \\le 300 \\\\\n",
    "\\text{(Television 2)} && 20X_{T1} + 10X_{T2} + 60X_{T3} & \\ge 100 \\\\\n",
    "\\text{(Radio 1)} && 15X_{R1} + 15X_{R2} + 10X_{R3} & \\le 300 \\\\\n",
    "\\text{(Radio 2)} && 15X_{R1} + 15X_{R2} + 10X_{R3} & \\ge 100 \\\\\n",
    "\\text{(Overall)} && Sum X_{ij} & \\le 800 \\\\\n",
    "\\text{(Non-negativity)} && X_{i} & \\ge 0\n",
    "\\end{aligned}$$"
   ]
  },
  {
   "cell_type": "code",
   "execution_count": 45,
   "metadata": {},
   "outputs": [],
   "source": [
    "from gurobipy import Model, GRB\n",
    "mod=Model()\n",
    "XM1=mod.addVar(lb=0,vtype=GRB.INTEGER)\n",
    "XM2=mod.addVar(lb=0,vtype=GRB.INTEGER)\n",
    "XM3=mod.addVar(lb=0,vtype=GRB.INTEGER)\n",
    "XN1=mod.addVar(lb=0,vtype=GRB.INTEGER)\n",
    "XN2=mod.addVar(lb=0,vtype=GRB.INTEGER)\n",
    "XT1=mod.addVar(lb=0,vtype=GRB.INTEGER)\n",
    "XT2=mod.addVar(lb=0,vtype=GRB.INTEGER)\n",
    "XT3=mod.addVar(lb=0,vtype=GRB.INTEGER)\n",
    "XR1=mod.addVar(lb=0,vtype=GRB.INTEGER)\n",
    "XR2=mod.addVar(lb=0,vtype=GRB.INTEGER)\n",
    "XR3=mod.addVar(lb=0,vtype=GRB.INTEGER)\n",
    "\n",
    "\n",
    "mod.setObjective(15*XM1+ 22.5*XM2 + 24*XM3 + 37.5*XN1 + 75*XN2 + 275*XT1 + 180*XT2 + 810*XT3 + 180*XR1 + 17*XR2 + 16*XR3, sense=GRB.MAXIMIZE)\n",
    "\n",
    "Magzine1=mod.addConstr(7.5*XM1+ 10*XM2 + 15*XM3 <= 300)\n",
    "Magzine2=mod.addConstr(7.5*XM1+ 10*XM2 + 15*XM3 >= 100)\n",
    "\n",
    "Newspaper1=mod.addConstr(2*XN1 + 3*XN2 <= 300)\n",
    "Newspaper2=mod.addConstr(2*XN1 + 3*XN2 >= 100)\n",
    "\n",
    "Television1=mod.addConstr(20*XT1 + 10*XT2 + 60*XT3 <= 300)\n",
    "Television2=mod.addConstr(20*XT1 + 10*XT2 + 60*XT3 >= 100)\n",
    "\n",
    "Radio1=mod.addConstr(15*XR1 + 15*XR2 + 10*XR3 <= 300)\n",
    "Radio2=mod.addConstr(15*XR1 + 15*XR2 + 10*XR3 >= 100)\n",
    "\n",
    "overall=mod.addConstr(7.5*XM1+ 10*XM2 + 15*XM3 + 2*XN1 + 3*XN2 + 20*XT1 + 10*XT2 + 60*XT3 + 15*XR1 + 15*XR2 + 10*XR3 <= 800)\n",
    "\n",
    "\n",
    "\n",
    "\n",
    "mod.setParam('OutputFlag',False)\n",
    "mod.optimize()"
   ]
  },
  {
   "cell_type": "code",
   "execution_count": 46,
   "metadata": {},
   "outputs": [
    {
     "data": {
      "text/plain": [
       "14235.0"
      ]
     },
     "execution_count": 46,
     "metadata": {},
     "output_type": "execute_result"
    }
   ],
   "source": [
    "mod.objval"
   ]
  },
  {
   "cell_type": "code",
   "execution_count": 47,
   "metadata": {},
   "outputs": [
    {
     "name": "stdout",
     "output_type": "stream",
     "text": [
      "\tM1=-0.0 M2=10.0 M3=-0.0\n",
      "\tN1=-0.0 N2=98.0\n",
      "\tT1=-0.0 T2=30.0 T3=-0.0\n",
      "\tR1=7.0 R2=-0.0 R3=-0.0\n"
     ]
    }
   ],
   "source": [
    "print(f'\\tM1={XM1.x} M2={XM2.x} M3={XM3.x}')\n",
    "print(f'\\tN1={XN1.x} N2={XN2.x}')\n",
    "print(f'\\tT1={XT1.x} T2={XT2.x} T3={XT3.x}')\n",
    "print(f'\\tR1={XR1.x} R2={XR2.x} R3={XR3.x}')\n"
   ]
  },
  {
   "cell_type": "code",
   "execution_count": null,
   "metadata": {},
   "outputs": [],
   "source": []
  }
 ],
 "metadata": {
  "kernelspec": {
   "display_name": "Python 3",
   "language": "python",
   "name": "python3"
  },
  "language_info": {
   "codemirror_mode": {
    "name": "ipython",
    "version": 3
   },
   "file_extension": ".py",
   "mimetype": "text/x-python",
   "name": "python",
   "nbconvert_exporter": "python",
   "pygments_lexer": "ipython3",
   "version": "3.7.6"
  },
  "varInspector": {
   "cols": {
    "lenName": 16,
    "lenType": 16,
    "lenVar": 40
   },
   "kernels_config": {
    "python": {
     "delete_cmd_postfix": "",
     "delete_cmd_prefix": "del ",
     "library": "var_list.py",
     "varRefreshCmd": "print(var_dic_list())"
    },
    "r": {
     "delete_cmd_postfix": ") ",
     "delete_cmd_prefix": "rm(",
     "library": "var_list.r",
     "varRefreshCmd": "cat(var_dic_list()) "
    }
   },
   "types_to_exclude": [
    "module",
    "function",
    "builtin_function_or_method",
    "instance",
    "_Feature"
   ],
   "window_display": false
  }
 },
 "nbformat": 4,
 "nbformat_minor": 2
}
