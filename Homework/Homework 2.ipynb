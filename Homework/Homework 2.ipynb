{
 "cells": [
  {
   "cell_type": "markdown",
   "metadata": {},
   "source": [
    "# Homework 2\n",
    "\n",
    "**Name:** Ji Jie\n",
    "\n",
    "\n",
    "## Q1. PY4E Chapter 5 Exercise 1\n",
    "\n",
    "Write a program which repeatedly reads numbers until the\n",
    "user enters \"done\". Once \"done\" is entered, print out the total, count, average of the numbers. If the user enters anything other than a\n",
    "number, detect their mistake using try and except and print an error\n",
    "message and skip to the next number. See sample run below.\n",
    "\n",
    "```\n",
    "Enter a number: 4\n",
    "Enter a number: 5\n",
    "Enter a number: bad data\n",
    "Invalid input\n",
    "Enter a number: 7\n",
    "Enter a number: done\n",
    "Output:\n",
    "\ttotal: 16.0,\n",
    "\tcount: 3,\n",
    "\taverage (2 decimal places): 5.33.\n",
    "```\n",
    "\n",
    "Write your code in the code cell below."
   ]
  },
  {
   "cell_type": "code",
   "execution_count": 1,
   "metadata": {},
   "outputs": [
    {
     "name": "stdout",
     "output_type": "stream",
     "text": [
      "Enter a number: 4\n",
      "Enter a number: 5\n",
      "Enter a number: bad data\n",
      "Invalid input\n",
      "Enter a number: 7\n",
      "Enter a number: done\n",
      "Output:\n",
      "\ttotal: 16.0,\n",
      "\tcount: 3,\n",
      "\taverage (2 decimal places): 5.33\n"
     ]
    }
   ],
   "source": [
    "num_sum = 0\n",
    "count = 0\n",
    "while True:\n",
    "    num = input('Enter a number: ')\n",
    "    if num == 'done':\n",
    "        break\n",
    "    try:\n",
    "        num = float(num)\n",
    "        success = True\n",
    "    except:\n",
    "        print('Invalid input')\n",
    "        success = False\n",
    "    if success:\n",
    "        count += 1\n",
    "        num_sum += num\n",
    "print(f'Output:\\n\\ttotal: {num_sum},\\n\\tcount: {count},\\n\\taverage (2 decimal places): {num_sum/count:.2f}')\n"
   ]
  },
  {
   "cell_type": "markdown",
   "metadata": {},
   "source": [
    "## Q2. BMI Calculator\n",
    "\n",
    "Write a program which asks users to input their weight (in lbs) and height (in inches), and compute their body mass index (BMI), which is defind as $BMI=\\frac{W}{H^2}$, where $W$ is their weight converted to kg, and $H$ is their height converted to m. (Assume 1 kg=2.205 lbs, and 1 m = 39.37 inches.) Finally, classify their BMI according to the following chart. \n",
    "\n",
    "|Classification | BMI ($kg/m^2$) |\n",
    "|--|--|\n",
    "|Underweight: | <18.5 |\n",
    "|Normal: | 18.5 to 25 (>=18.5 but <25) |\n",
    "|Overweight: | 25 to 30 (>=25 but <30) |\n",
    "|Obese: | >=30 |\n",
    "\n",
    "The program should ensure that the weight and height the user inputs are positive numbers. If the user does not input a number, then the program should print the message `\"Invalid. Input must be a number.\"` If the user inputs a negative number or zero, the program should print the message `\"Invalid. Input must be positive.\"` See sample run below.\n",
    "\n",
    "```\n",
    "Please input your weight (in lbs): thirty\n",
    "Invalid. Input must be a number.\n",
    "Please input your weight (in lbs): 143\n",
    "Please input your height (in inches): 5'11''\n",
    "Invalid. Input must be a number.\n",
    "Please input your height (in inches): 71\n",
    "According to the above chart, your BMI is 19.94 which is normal.\n",
    "```"
   ]
  },
  {
   "cell_type": "code",
   "execution_count": 2,
   "metadata": {
    "scrolled": true
   },
   "outputs": [
    {
     "name": "stdout",
     "output_type": "stream",
     "text": [
      "Please input your weight (in lbs): thirty\n",
      "Invalid. Input must be a number.\n",
      "Please input your weight (in lbs): 143\n",
      "Please input your height (in inches): 5'11''\n",
      "Invalid. Input must be a number.\n",
      "Please input your height (in inches): 71\n",
      "According to the above chart, your BMI is 19.94 which is normal.\n"
     ]
    }
   ],
   "source": [
    "while True:\n",
    "    weight = input('Please input your weight (in lbs): ')\n",
    "    try:\n",
    "        weight = float(weight)\n",
    "        success = True\n",
    "    except:\n",
    "        print('Invalid. Input must be a number.')\n",
    "        success = False\n",
    "    if success:\n",
    "        break\n",
    "while True:\n",
    "    height = input('Please input your height (in inches): ')\n",
    "    try:\n",
    "        height = float(height)\n",
    "        success_2 = True\n",
    "    except:\n",
    "        print('Invalid. Input must be a number.')\n",
    "        success_2 = False\n",
    "    if success_2:\n",
    "        break\n",
    "w = weight/2.205\n",
    "h = height/39.37\n",
    "BMI = w/h**2\n",
    "if BMI < 18.5:\n",
    "    print(f'According to the above chart, your BMI is {BMI:.2f} which is underweight.')\n",
    "elif BMI < 25:\n",
    "    print(f'According to the above chart, your BMI is {BMI:.2f} which is normal.')\n",
    "elif BMI < 30:\n",
    "    print(f'According to the above chart, your BMI is {BMI:.2f} which is overweight.')\n",
    "else:\n",
    "    print(f'According to the above chart, your BMI is {BMI:.2f} which is obese.')"
   ]
  },
  {
   "cell_type": "markdown",
   "metadata": {},
   "source": [
    "## Q3. Estimating Time of Selling Out\n",
    "\n",
    "Suppose that there are limited number of tickets to an event and your goal is to estimate how many weeks before the tickets will be sold out. \n",
    "\n",
    "Write a function `sellOutTime` with two input arguments:\n",
    "\n",
    "- `demand`: a list of positive integers, representing the forecasted demand in each week.\n",
    "- `inventory`: an integer denoting the initial supply of tickets.\n",
    "\n",
    "The function should return the week in which tickets will sell out. For example, if `demand=[50,80,89]` (representing a demand of 50 in week 1, 80 in week 2, and 90 in week 3), then \n",
    "\n",
    "- if initial inventory is 10, the tickets will sell out in week 1. (Function returns 1.)\n",
    "- if initial inventory is 50, the function should still return 1.\n",
    "- if initial inventory is 60, function should return 2. (Because supply lasts into week 2.)\n",
    "- if initial inventory is 300, function should return 4. (Supply lasts even after the 3 weeks are over.)\n"
   ]
  },
  {
   "cell_type": "code",
   "execution_count": 2,
   "metadata": {},
   "outputs": [],
   "source": [
    "# def sellOutTime(demand,inventory):\n",
    "#     week_sum = 0\n",
    "#     i = 0\n",
    "#     pri = False\n",
    "#     while week_sum < inventory:\n",
    "#         if i >= len(demand):\n",
    "#             print(f'The inventory is {inventory}, the tickets will be sold out after week {i+1}')\n",
    "#             pri = False\n",
    "#             break\n",
    "#         week_sum += demand[i]\n",
    "#         i += 1\n",
    "#         pri = True\n",
    "#     if pri:\n",
    "#         print(f'The inventory is {inventory}, the tickets will be sold out in week {i}')\n",
    "\n",
    "def sellOutTime(demand,inventory):\n",
    "    week_sum = 0\n",
    "    i = 0\n",
    "   \n",
    "    while week_sum < inventory:\n",
    "        if i >= len(demand):\n",
    "            return i+1\n",
    "            \n",
    "        week_sum += demand[i]\n",
    "        i += 1\n",
    "        \n",
    "    return i "
   ]
  },
  {
   "cell_type": "markdown",
   "metadata": {},
   "source": [
    "The following code illustrates the use of the function after you complete it."
   ]
  },
  {
   "cell_type": "code",
   "execution_count": 3,
   "metadata": {},
   "outputs": [
    {
     "name": "stdout",
     "output_type": "stream",
     "text": [
      "With initial inventory 10  supply will last until week 1\n",
      "With initial inventory 50  supply will last until week 1\n",
      "With initial inventory 60  supply will last until week 2\n",
      "With initial inventory 130  supply will last until week 2\n",
      "With initial inventory 220  supply will last until week 4\n",
      "With initial inventory 500  supply will last until week 6\n",
      "With initial inventory 1000  supply will last until week 9\n"
     ]
    }
   ],
   "source": [
    "demand=[50,80,89,100,120,140,100,80]\n",
    "for inventory in [10,50,60,130,220,500,1000]:\n",
    "    print('With initial inventory',inventory,' supply will last until week',sellOutTime(demand,inventory))"
   ]
  },
  {
   "cell_type": "markdown",
   "metadata": {},
   "source": [
    "## Q4. Forecasting Harvard Tuition\n",
    "\n",
    "An **exponential smoothing** forecast is given by \n",
    "\n",
    "$$ F_1 = A_0, $$\n",
    "\n",
    "$$ F_t = \\alpha A_{t-1} + (1-\\alpha) F_{t-1} \\quad \\mbox{ for } t > 1, $$\n",
    "\n",
    "where\n",
    "- $\\alpha \\in (0,1]$ is the smoothing constant chosen by the user. \n",
    "- $A_t$ is the actual value for time period $t = 0, 1, ...$, \n",
    "- $F_t$ is the forecast for time period $t = 1, ...$. (Note that there is no $F_0$ because no forecast is available for the initial period $t=0$.)\n",
    "\n",
    "The file `HWK2-tuition.csv` contains the historical tuition for Harvard MBA from 1985-2017. (Data source: https://www.kaggle.com/harvard-university/harvard-tuition) The following code illustrates how to read the data using pandas and iterate over the columns. You may want to look up the `pandas.DataFrame.loc` and `pandas.DataFrame.iloc` commands.\n",
    "\n",
    "```python\n",
    "import pandas as pd\n",
    "tuition=pd.read_csv('HWK2-tuition.csv',index_col=0)\n",
    "\n",
    "for year in tuition.index:\n",
    "    tuition.loc[year,'Tuition']\n",
    "```\n",
    "\n",
    "Write a program that applies exponential smoothing to forecast the tuition of Harvard's MBA program in 2018 using $\\alpha=0.8$, as well as the mean absolute deviation of the forecast since the year 2000, as defined by the average value of $|F_t-A_t|$ as time ranges from the year 2000 to the last year in the data. \n"
   ]
  },
  {
   "cell_type": "code",
   "execution_count": 19,
   "metadata": {},
   "outputs": [
    {
     "name": "stdout",
     "output_type": "stream",
     "text": [
      "The tuition forecast for 2018 is $63064.18.\n",
      "The mean absolute error of the forecast since Year 2000 is $2577.42.\n"
     ]
    }
   ],
   "source": [
    "import pandas as pd\n",
    "tuition=pd.read_csv('HWK2-tuition.csv',index_col=0)\n",
    "t = tuition.iloc[:,0]\n",
    "F = [0,10000]\n",
    "a = 0.8\n",
    "for i in range(2,len(t)+1):\n",
    "    F_tmp = a * t.iloc[i-1] + (1 - a) * F [i-1]\n",
    "    F.append(F_tmp)\n",
    "print(f'The tuition forecast for 2018 is ${F[-1]:.2f}.')\n",
    "error = 0\n",
    "for i in range(15,len(t)):\n",
    "    error += abs(t.iloc[i]-F[i])\n",
    "error = error/(len(t)-15)\n",
    "print(f'The mean absolute error of the forecast since Year 2000 is ${error:.2f}.')"
   ]
  },
  {
   "cell_type": "code",
   "execution_count": 45,
   "metadata": {},
   "outputs": [
    {
     "name": "stdout",
     "output_type": "stream",
     "text": [
      "The tuition forecast for 2018 is $63064.18.\n",
      "The mean absolute error of the forecast since Year 2000 is $2577.42.\n"
     ]
    }
   ],
   "source": [
    "import pandas as pd\n",
    "tuition=pd.read_csv('HWK2-tuition.csv',index_col=0)\n",
    "t = tuition.iloc[:,0]\n",
    "F = [0,10000]\n",
    "a = 0.8\n",
    "for i in range(2,len(t)+1):\n",
    "    F_tmp = a * t.iloc[i-1] + (1 - a) * F [i-1]\n",
    "    F.append(F_tmp)\n",
    "print(f'The tuition forecast for 2018 is ${F[-1]:.2f}.')\n",
    "error = 0\n",
    "for i in range(15,len(t)):\n",
    "    error += abs(t.iloc[i]-F[i])\n",
    "error = error/(len(t)-15)\n",
    "print(f'The mean absolute error of the forecast since Year 2000 is ${error:.2f}.')"
   ]
  },
  {
   "cell_type": "code",
   "execution_count": null,
   "metadata": {},
   "outputs": [],
   "source": []
  }
 ],
 "metadata": {
  "kernelspec": {
   "display_name": "Python 3",
   "language": "python",
   "name": "python3"
  },
  "language_info": {
   "codemirror_mode": {
    "name": "ipython",
    "version": 3
   },
   "file_extension": ".py",
   "mimetype": "text/x-python",
   "name": "python",
   "nbconvert_exporter": "python",
   "pygments_lexer": "ipython3",
   "version": "3.7.3"
  },
  "varInspector": {
   "cols": {
    "lenName": 16,
    "lenType": 16,
    "lenVar": 40
   },
   "kernels_config": {
    "python": {
     "delete_cmd_postfix": "",
     "delete_cmd_prefix": "del ",
     "library": "var_list.py",
     "varRefreshCmd": "print(var_dic_list())"
    },
    "r": {
     "delete_cmd_postfix": ") ",
     "delete_cmd_prefix": "rm(",
     "library": "var_list.r",
     "varRefreshCmd": "cat(var_dic_list()) "
    }
   },
   "types_to_exclude": [
    "module",
    "function",
    "builtin_function_or_method",
    "instance",
    "_Feature"
   ],
   "window_display": false
  }
 },
 "nbformat": 4,
 "nbformat_minor": 2
}
