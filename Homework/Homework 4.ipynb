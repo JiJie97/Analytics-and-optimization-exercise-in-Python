{
 "cells": [
  {
   "cell_type": "markdown",
   "metadata": {},
   "source": [
    "# Homework 4\n",
    "\n",
    "**Name:** Ji Jie\n"
   ]
  },
  {
   "cell_type": "markdown",
   "metadata": {},
   "source": [
    "## Instructions for typesetting math in Markdown cells\n",
    "\n",
    "It is possible to render mathematical expressions nicely in Markdown cells, using a type of script called \"LaTex\". LaTex the standard format for people in most technical fields to write math nicely. (You can Google for examples of what you can do with LaTex.) \n",
    "\n",
    "To render an expression using LaTex, the expression must be enclosed with dollar signs. For example, the expression `$X>0$` is rendered $X>0$. A single dollar sign is for mathematical expressions within the same line, and double dollar signs are for a standalone mathematical expressions in its own line. Hence, `$$X > 0.$$` is rendered as  $$X>0.$$\n",
    "\n",
    "Below are examples of how to typeset various mathematical symbols using Latex (the math itself is not that meaningful, but I wanted to showcase all the commands you would need). For additional examples, see the course handouts (the .ipynb files from nbviewer), or Google for \"latex math examples.\"\n",
    "\n",
    "Let $A = 3/4 = \\frac{3}{4} =  0.75$, $B=\\mathbb{P}(A \\ge 1) = 0$. The expectation $\\mathbb{E}(AB)=0$. It's okay also to write $E(AB)$ instead of $\\mathbb{E}(AB)$, or $P(A \\ge 1)$ instead of $\\mathbb{P}(A \\ge 1)$ although the later look nicer. You can write a sequence of equations using the align environment, which uses `\\\\` for breaking a line and `&` for alignment. Note that when you are in math mode (within dollar signs), you must use `\\text{}` to enclose text.\n",
    "$$\\begin{aligned}\n",
    "P(A \\ge 80\\% \\text{ and } Y \\approx \\sqrt{3} | X \\text{ is red}) & = \\frac{ P(A \\ge 80\\% \\text{ and } Y \\approx \\sqrt{3} \\text{ and $X$ is red})}{P(X \\text{ is red})} \\\\\n",
    "&\\le \\frac{ P(A \\ge .8)}{P(X \\text{ is red})} \\\\\n",
    "&\\le 0.\n",
    "\\end{aligned}$$\n"
   ]
  },
  {
   "cell_type": "markdown",
   "metadata": {},
   "source": [
    "Let $A = 3/4 = \\frac{3}{4} =  0.75$, $B=\\mathbb{P}(A \\ge 1) = 0$. The expectation $\\mathbb{E}(AB)=0$. It's okay also to write $E(AB)$ instead of $\\mathbb{E}(AB)$, or $P(A \\ge 1)$ instead of $\\mathbb{P}(A \\ge 1)$ although the later look nicer. You can write a sequence of equations using the align environment, which uses `\\\\` for breaking a line and `&` for alignment. Note that when you are in math mode (within dollar signs), you must use `\\text{}` to enclose text.\n",
    "$$\\begin{aligned}\n",
    "P(A \\ge 80\\% \\text{ and } Y \\approx \\sqrt{3} | X \\text{ is red}) & = \\frac{ P(A \\ge 80\\% \\text{ and } Y \\approx \\sqrt{3} \\text{ and $X$ is red})}{P(X \\text{ is red})} \\\\\n",
    "&\\le \\frac{ P(A \\ge .8)}{P(X \\text{ is red})} \\\\\n",
    "&\\le 0.\n",
    "\\end{aligned}$$\n"
   ]
  },
  {
   "cell_type": "markdown",
   "metadata": {},
   "source": [
    "## Q1. DMD Exercise 2.1 \n",
    "\n",
    "A four-sided die is engraved with the numbers 1 through 4 on its four different sides. Suppose that when rolled, each side (and hence each number) has an equal probability of being the bottom face when it lands. We roll two such dice. Let X be the sum of the numbers on the bottom faces of the two dice.\n",
    "\n",
    "(a) What is the probability that X is at least five?\n",
    "$$\\begin{aligned}\n",
    "P(X \\ge 5) & = \\frac{5}{8}\n",
    "\\end{aligned}$$\n",
    "(b) How does your answer to (a) change if you are told that the bottom face of the first die has the number 3 on it?\n",
    "$$\\begin{aligned}\n",
    "P(X \\ge 5 | X_{1} = 3) & = \\frac{3}{4}\n",
    "\\end{aligned}$$\n",
    "(c) How does your answer to (a) change if you are told that the bottom face of one of the dice has the number 3 on it?\n",
    "$$\\begin{aligned}\n",
    "P(X \\ge 5 | X_{1} \\text{ or } X_{2} = 3) & = \\frac{5}{7}\n",
    "\\end{aligned}$$"
   ]
  },
  {
   "cell_type": "markdown",
   "metadata": {},
   "source": [
    "## Q2. DMD Exercise 2.4 \n",
    "\n",
    "An oil company is drilling for oil at three promising sites. According\n",
    "to geological tests, the probabilities of finding oil at these three sites are 0.70, 0.85, and 0.80,\n",
    "respectively. The presence of oil at any one of the sites is presumed to be independent of the\n",
    "presence of oil at any of the other sites.\n",
    "\n",
    "(a) What is the probability of finding oil at all three of the sites?\n",
    "$$\\begin{aligned}\n",
    "P(X) & = 0.476\n",
    "\\end{aligned}$$\n",
    "(b) What is the probability of not finding oil at any of the three sites?\n",
    "$$\\begin{aligned}\n",
    "P(X) & = 0.009\n",
    "\\end{aligned}$$\n"
   ]
  },
  {
   "cell_type": "code",
   "execution_count": 4,
   "metadata": {
    "scrolled": true
   },
   "outputs": [
    {
     "data": {
      "text/plain": [
       "0.476"
      ]
     },
     "execution_count": 4,
     "metadata": {},
     "output_type": "execute_result"
    }
   ],
   "source": [
    "0.7*0.85*0.8"
   ]
  },
  {
   "cell_type": "code",
   "execution_count": 5,
   "metadata": {},
   "outputs": [
    {
     "data": {
      "text/plain": [
       "0.009"
      ]
     },
     "execution_count": 5,
     "metadata": {},
     "output_type": "execute_result"
    }
   ],
   "source": [
    "0.3*0.15*0.2"
   ]
  },
  {
   "cell_type": "markdown",
   "metadata": {},
   "source": [
    "## Q3. DMD Exercise 2.10 \n",
    "A hardware store has received two shipments of halogen lamps. The first shipment contains 100 lamps, 4 percent of which are defective. The second shipment contains 50 lamps, 6 percent of which are defective. Suppose that Emanuel picks a lamp (at random) off of the shelf and purchases it, and he later discovers that the lamp he purchased is defective. Is the defective lamp more likely to come from the first shipment or from the second shipment?\n",
    "\n",
    "A: More likely come from first shipment\n"
   ]
  },
  {
   "cell_type": "code",
   "execution_count": 6,
   "metadata": {},
   "outputs": [
    {
     "data": {
      "text/plain": [
       "0.5714285714285714"
      ]
     },
     "execution_count": 6,
     "metadata": {},
     "output_type": "execute_result"
    }
   ],
   "source": [
    "(0.08/3) / (7/150)"
   ]
  },
  {
   "cell_type": "code",
   "execution_count": 7,
   "metadata": {
    "scrolled": true
   },
   "outputs": [
    {
     "data": {
      "text/plain": [
       "0.42857142857142855"
      ]
     },
     "execution_count": 7,
     "metadata": {},
     "output_type": "execute_result"
    }
   ],
   "source": [
    "(0.06/3) / (7/150)"
   ]
  },
  {
   "cell_type": "code",
   "execution_count": 8,
   "metadata": {},
   "outputs": [
    {
     "data": {
      "text/plain": [
       "0.06666666666666667"
      ]
     },
     "execution_count": 8,
     "metadata": {},
     "output_type": "execute_result"
    }
   ],
   "source": [
    "2/3 * 0.1"
   ]
  },
  {
   "cell_type": "code",
   "execution_count": 9,
   "metadata": {},
   "outputs": [
    {
     "data": {
      "text/plain": [
       "0.3103448275862069"
      ]
     },
     "execution_count": 9,
     "metadata": {},
     "output_type": "execute_result"
    }
   ],
   "source": [
    "9/29"
   ]
  },
  {
   "cell_type": "markdown",
   "metadata": {},
   "source": [
    "## Q4. DMD Exercise 2.11 \n",
    "It is estimated that one third of the population in a given county is infected with the tuberculosis (TB) bacteria. The human body is usually able to successfully fight the TB bacteria and so prevent the onset of the TB disease. Consequently, a person infected with the TB bacteria has only a 10 percent chance of development the TB disease over his/her lifetime.\n",
    "\n",
    "(a)\tSuppose that we choose a person at random from all of the people in the county. What is the probability that this person will have TB disease over his/her lifetime?\n",
    "$$\\begin{aligned}\n",
    "P(X) & = 0.0333\n",
    "\\end{aligned}$$\n",
    "(b)\tSuppose that among those people who have died in the county in the last year, we perform an autopsy on one of the bodies chosen at random, and we find that this person did not have the TB disease. What is the probability that this person had been infected with the TB bacteria?\n",
    "$$\\begin{aligned}\n",
    "P(X) & = 0.3103\n",
    "\\end{aligned}$$"
   ]
  },
  {
   "cell_type": "markdown",
   "metadata": {},
   "source": [
    "## Q5. (Geographic Testing)\n",
    "\n",
    "Extensive logging has exposed a hillside in San Carlos to the possibility of a mudslide. The mayor has consulted a geographic expert, who estimates that there is only a 10\\% chance that the slide will occur within the next year. The expert adds that roughly 5\\% of such slides would break through the existing retaining wall, which would cause a damage of one million dollars. (The slides that don't break the wall would cause negligible damage.) \n",
    "\n",
    "The expert also mentioned that she can conduct a geological test to better assess the likelihood of a mud slide. The test has three possible outcomes, as seen in the table below, which also summarize past data (from other locations) on whether a subsequent slide indeed happened afterward.\n",
    "\n",
    "| Test Outcome | Slide within 1 year | No slide within 1 year | \n",
    "|--|--|--|\n",
    "|Positive| 900 | 50 | \n",
    "|Neutral| 25 |  100 |\n",
    "|Negative| 75 | 850 |\n",
    "\n",
    "**(a)** Suppose that the expert's initial estimate of 10\\% chance is correct, what's the probability that the test would yield a positive result in San Carlos?\n",
    "$$\\begin{aligned}\n",
    "P(X) & = 0.135\n",
    "\\end{aligned}$$"
   ]
  },
  {
   "cell_type": "markdown",
   "metadata": {},
   "source": [
    "**(b)** If there is a way to strengthen the retaining wall so that it would not break under any mud slide, how much should the mayor be willing to pay for the wall supposing that the geographic test yields a positive result? What about if it yields a neutral result?\n",
    "$$\\begin{aligned}\n",
    "C(Positive) = 33333.33\n",
    "\\end{aligned}$$\n",
    "$$\\begin{aligned}\n",
    "C(Neutral) = 1351.35\n",
    "\\end{aligned}$$"
   ]
  },
  {
   "cell_type": "markdown",
   "metadata": {},
   "source": [
    "a) given p(slide) = 0.1\n",
    "p(pos|slide)=0.9\n",
    "p(pos|not slide)=0.05\n",
    "\n",
    "need\n",
    "p(positive)=? = p(pos&slide) + p(pos&no slide) = 0.1*0.9+0.9*0.05"
   ]
  },
  {
   "cell_type": "markdown",
   "metadata": {},
   "source": [
    "b) E[benifit] VS cost\\\n",
    "\n",
    "E[benifit] = 0.05*1000000*p(slide|pos)"
   ]
  },
  {
   "cell_type": "markdown",
   "metadata": {},
   "source": [
    "C) value of information is what you can gain knowing it\\\n",
    "No test  (Not build)\\\n",
    "Test (pos, neu, nega)"
   ]
  },
  {
   "cell_type": "code",
   "execution_count": null,
   "metadata": {},
   "outputs": [],
   "source": []
  },
  {
   "cell_type": "code",
   "execution_count": null,
   "metadata": {},
   "outputs": [],
   "source": []
  },
  {
   "cell_type": "code",
   "execution_count": 24,
   "metadata": {},
   "outputs": [
    {
     "data": {
      "text/plain": [
       "4500.000000000001"
      ]
     },
     "execution_count": 24,
     "metadata": {},
     "output_type": "execute_result"
    }
   ],
   "source": [
    "2/3 * 0.05 * 1000000 * 0.135"
   ]
  },
  {
   "cell_type": "code",
   "execution_count": 25,
   "metadata": {
    "scrolled": true
   },
   "outputs": [
    {
     "data": {
      "text/plain": [
       "125.00000000000001"
      ]
     },
     "execution_count": 25,
     "metadata": {},
     "output_type": "execute_result"
    }
   ],
   "source": [
    "0.0025 / 0.0925 *0.05*1000000 * 0.0925"
   ]
  },
  {
   "cell_type": "code",
   "execution_count": 19,
   "metadata": {},
   "outputs": [
    {
     "data": {
      "text/plain": [
       "0.7725"
      ]
     },
     "execution_count": 19,
     "metadata": {},
     "output_type": "execute_result"
    }
   ],
   "source": [
    "0.85*0.9 + 0.0075"
   ]
  },
  {
   "cell_type": "code",
   "execution_count": 18,
   "metadata": {},
   "outputs": [
    {
     "data": {
      "text/plain": [
       "0.0075"
      ]
     },
     "execution_count": 18,
     "metadata": {},
     "output_type": "execute_result"
    }
   ],
   "source": [
    "75/1000 * 0.1"
   ]
  },
  {
   "cell_type": "code",
   "execution_count": 29,
   "metadata": {
    "scrolled": false
   },
   "outputs": [
    {
     "data": {
      "text/plain": [
       "375.00000000000006"
      ]
     },
     "execution_count": 29,
     "metadata": {},
     "output_type": "execute_result"
    }
   ],
   "source": [
    "0.0075/0.7725 * 0.05 * 1000000 * 0.7725"
   ]
  },
  {
   "cell_type": "code",
   "execution_count": 28,
   "metadata": {},
   "outputs": [
    {
     "data": {
      "text/plain": [
       "5000.000000000001"
      ]
     },
     "execution_count": 28,
     "metadata": {},
     "output_type": "execute_result"
    }
   ],
   "source": [
    "0.1*0.05*1000000"
   ]
  },
  {
   "cell_type": "code",
   "execution_count": 26,
   "metadata": {},
   "outputs": [
    {
     "data": {
      "text/plain": [
       "0.1"
      ]
     },
     "execution_count": 26,
     "metadata": {},
     "output_type": "execute_result"
    }
   ],
   "source": [
    "2/3 * 0.135 + 0.0025/0.0925 * 0.0925 + 0.0075/0.7725 * 0.7725"
   ]
  },
  {
   "cell_type": "markdown",
   "metadata": {},
   "source": [
    "**(c)** Suppose the way to strengthen the retaining wall costs $20000$ dollars, how much should the mayor be willing to pay for the geological test?"
   ]
  },
  {
   "cell_type": "code",
   "execution_count": 13,
   "metadata": {},
   "outputs": [
    {
     "data": {
      "text/plain": [
       "0.012500000000000002"
      ]
     },
     "execution_count": 13,
     "metadata": {},
     "output_type": "execute_result"
    }
   ],
   "source": [
    "(25/1000) * 0.1 / 0.2"
   ]
  },
  {
   "cell_type": "code",
   "execution_count": 14,
   "metadata": {},
   "outputs": [
    {
     "data": {
      "text/plain": [
       "0.09249999999999999"
      ]
     },
     "execution_count": 14,
     "metadata": {},
     "output_type": "execute_result"
    }
   ],
   "source": [
    "(75/1000) * 0.1 / (75/925)"
   ]
  },
  {
   "cell_type": "code",
   "execution_count": null,
   "metadata": {},
   "outputs": [],
   "source": []
  }
 ],
 "metadata": {
  "kernelspec": {
   "display_name": "Python 3",
   "language": "python",
   "name": "python3"
  },
  "language_info": {
   "codemirror_mode": {
    "name": "ipython",
    "version": 3
   },
   "file_extension": ".py",
   "mimetype": "text/x-python",
   "name": "python",
   "nbconvert_exporter": "python",
   "pygments_lexer": "ipython3",
   "version": "3.7.6"
  },
  "varInspector": {
   "cols": {
    "lenName": 16,
    "lenType": 16,
    "lenVar": 40
   },
   "kernels_config": {
    "python": {
     "delete_cmd_postfix": "",
     "delete_cmd_prefix": "del ",
     "library": "var_list.py",
     "varRefreshCmd": "print(var_dic_list())"
    },
    "r": {
     "delete_cmd_postfix": ") ",
     "delete_cmd_prefix": "rm(",
     "library": "var_list.r",
     "varRefreshCmd": "cat(var_dic_list()) "
    }
   },
   "types_to_exclude": [
    "module",
    "function",
    "builtin_function_or_method",
    "instance",
    "_Feature"
   ],
   "window_display": false
  }
 },
 "nbformat": 4,
 "nbformat_minor": 2
}
