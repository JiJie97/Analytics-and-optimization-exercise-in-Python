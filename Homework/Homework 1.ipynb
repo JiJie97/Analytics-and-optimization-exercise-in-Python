{
 "cells": [
  {
   "cell_type": "markdown",
   "metadata": {},
   "source": [
    "# Homework 1\n",
    "\n",
    "**Name: Ji Jie**"
   ]
  },
  {
   "cell_type": "markdown",
   "metadata": {},
   "source": [
    "## Q1. PY4E Chapter 2 Exercise 4\n",
    "\n",
    "Assume that we execute the following assignment statements:\n",
    "```\n",
    "width = 17\n",
    "height = 12.0\n",
    "```\n",
    "\n",
    "For each of the following expressions, write the value of the expression and the\n",
    "type (of the value of the expression).\n",
    "\n",
    "1. width//2\n",
    "\n",
    "2. width/2.0\n",
    "\n",
    "3. height/3\n",
    "\n",
    "4. 1 + 2 * 5\n",
    "\n",
    "Type your answer in this markdown cell, under this line: (You can create a new code cell to check your answers.)\n",
    "\n",
    "**A: 1.int  2.float  3.float  4.int** \n",
    "\n",
    "\n",
    "## Q2. PY4E Chapter 2 Exercise 5\n",
    "\n",
    "Write a program which prompts the user for a Celsius temperature, convert the temperature to Fahrenheit, and print out the\n",
    "converted temperature.\n",
    "\n",
    "Write your code in the code cell below.\n"
   ]
  },
  {
   "cell_type": "code",
   "execution_count": 3,
   "metadata": {},
   "outputs": [
    {
     "name": "stdout",
     "output_type": "stream",
     "text": [
      "Enter temperature in Celsius: 38\n",
      "The temperature in Fahrenheit is: 100.4\n"
     ]
    }
   ],
   "source": [
    "C = float(input('Enter temperature in Celsius: '))\n",
    "print(f'The temperature in Fahrenheit is: {1.8*C+32}')"
   ]
  },
  {
   "cell_type": "markdown",
   "metadata": {},
   "source": [
    "## Q3. PY4E Chapter 3 Exercise 1\n",
    "\n",
    "Write a program to prompt the user for hours and rate per hour to compute gross pay. Hours worked above 40 should be paid at a rate of 1.5 times the normal hourly rate.\n",
    "\n",
    "```\n",
    "Enter Hours: 45\n",
    "Enter Rate: 10\n",
    "Pay: 475.0\n",
    "```\n",
    "\n",
    "Write your code in the code cell below."
   ]
  },
  {
   "cell_type": "code",
   "execution_count": 4,
   "metadata": {},
   "outputs": [
    {
     "name": "stdout",
     "output_type": "stream",
     "text": [
      "Enter Hours: 45\n",
      "Enter Rate: 10\n",
      "Pay:  475.0\n"
     ]
    }
   ],
   "source": [
    "hours = float(input('Enter Hours: '))\n",
    "rate = float(input('Enter Rate: '))\n",
    "if hours <= 40:\n",
    "    salary = hours * rate\n",
    "else:\n",
    "    salary = 40*rate + (hours-40)*rate*1.5\n",
    "print(f'Pay: {salary}')"
   ]
  },
  {
   "cell_type": "markdown",
   "metadata": {},
   "source": [
    "## Q4. PY4E Chapter 3 Exercise 2\n",
    "Rewrite your pay program (in Q3) using try and except so that your\n",
    "program handles non-numeric input gracefully by printing a message\n",
    "and exiting the program (for instructions on try and except, see PY4E section 3.7 or Google \"Python try and except\"; learning new commands on your own by reading documentation is a valuable skill that this class gives you the opportunity to practice). The following shows two executions of the\n",
    "program:\n",
    "\n",
    "```\n",
    "Enter Hours: 20\n",
    "Enter Rate: nine\n",
    "Error, please enter numeric input\n",
    "\n",
    "Enter Hours: forty\n",
    "Error, please enter numeric input\n",
    "```\n",
    "\n",
    "Write your code in the code cell below."
   ]
  },
  {
   "cell_type": "code",
   "execution_count": 14,
   "metadata": {},
   "outputs": [
    {
     "name": "stdout",
     "output_type": "stream",
     "text": [
      "Enter Hours: forty\n",
      "Error, please enter numeric input\n"
     ]
    }
   ],
   "source": [
    "try:\n",
    "    hours = float(input('Enter Hours: '))\n",
    "    rate = float(input('Enter Rate: '))\n",
    "except:\n",
    "    print('Error, please enter numeric input')\n",
    "else:\n",
    "    if hours <= 40:\n",
    "        salary = hours * rate\n",
    "    else:\n",
    "        salary = 40*rate + (hours-40)*rate*1.5\n",
    "    print(f'Pay: {salary}')"
   ]
  },
  {
   "cell_type": "markdown",
   "metadata": {},
   "source": [
    "## Q5. PY4E Chapter 3 Exercise 3\n",
    "\n",
    "Write a program to prompt for a score between 0.0 and\n",
    "1.0. If the score is out of range, print an error message. If the score is\n",
    "between 0.0 and 1.0, print a grade using the following table:\n",
    "\n",
    "|Score | Grade |\n",
    "| -- | -- |\n",
    "|>= 0.9 | A  |\n",
    "|>= 0.8 | B |\n",
    "|>= 0.7 | C |\n",
    "| >= 0.6 | D |\n",
    "| < 0.6 | F |\n",
    "\n",
    "```\n",
    "Enter score: 0.95\n",
    "A\n",
    "Enter score: perfect\n",
    "Bad score\n",
    "Enter score: 10.0\n",
    "Bad score\n",
    "Enter score: 0.75\n",
    "C\n",
    "Enter score: 0.5\n",
    "F\n",
    "```\n",
    "\n",
    "Run the program repeatedly as shown above to test the various different values for\n",
    "input.\n",
    "\n",
    "Write your code in the code cell below."
   ]
  },
  {
   "cell_type": "code",
   "execution_count": 15,
   "metadata": {},
   "outputs": [
    {
     "name": "stdout",
     "output_type": "stream",
     "text": [
      "Enter score: 10.0\n",
      "Bad score\n"
     ]
    }
   ],
   "source": [
    "try:\n",
    "    score = float(input('Enter Score: '))\n",
    "except:\n",
    "    print('Bad score')\n",
    "else:\n",
    "    if score < 0:\n",
    "        print('Bad score')\n",
    "    elif score < 0.6:\n",
    "        print('F')\n",
    "    elif score < 0.7:\n",
    "        print('D')\n",
    "    elif score < 0.8:\n",
    "        print('C')\n",
    "    elif score < 0.9:\n",
    "        print('B')\n",
    "    elif score <= 1.0:\n",
    "        print('A')\n",
    "    else:\n",
    "        print('Bad score')"
   ]
  },
  {
   "cell_type": "markdown",
   "metadata": {},
   "source": [
    "## Q6. PY4E Chapter 4 Exercise 6\n",
    "Rewrite your pay computation in Q4 by creating a function called `computepay` which takes two parameters\n",
    "(`hours` and `rate`).\n",
    "\n",
    "Write your code in the code cell below."
   ]
  },
  {
   "cell_type": "code",
   "execution_count": 2,
   "metadata": {},
   "outputs": [
    {
     "name": "stdout",
     "output_type": "stream",
     "text": [
      "Enter hours: 45\n",
      "Enter rate: 10\n",
      "Pay: 475.0\n"
     ]
    }
   ],
   "source": [
    "def computepay(hours,rate):\n",
    "    \n",
    "    try:\n",
    "        h = float(hours)\n",
    "        r = float(rate)\n",
    "    except:\n",
    "        print('Error, please enter numeric input')\n",
    "    else:\n",
    "        if h <= 40:\n",
    "            salary = h * r\n",
    "        else:\n",
    "            salary = 40*r + (h-40)*r*1.5\n",
    "        print(f'Pay: {salary}')\n",
    "\n",
    "computepay(input('Enter hours: '),input('Enter rate: '))"
   ]
  },
  {
   "cell_type": "markdown",
   "metadata": {},
   "source": [
    "## Q7. PY4E Chapter 4 Exercise 7\n",
    "\n",
    "Rewrite the grade program from Q5 using a function called `computegrade` that takes a `score` as its parameter and returns a `grade` as a string.\n",
    "\n",
    "Write your code in the code cell below."
   ]
  },
  {
   "cell_type": "code",
   "execution_count": 20,
   "metadata": {},
   "outputs": [
    {
     "name": "stdout",
     "output_type": "stream",
     "text": [
      "Enter score: -1\n",
      "Bad score\n"
     ]
    }
   ],
   "source": [
    "def computescore(inputscore):\n",
    "    \n",
    "    try:\n",
    "        score = float(inputscore)\n",
    "    except:\n",
    "        print('Bad score')\n",
    "    else:\n",
    "        if score < 0:\n",
    "            print('Bad score')\n",
    "        elif score < 0.6:\n",
    "            print('F')\n",
    "        elif score < 0.7:\n",
    "            print('D')\n",
    "        elif score < 0.8:\n",
    "            print('C')\n",
    "        elif score < 0.9:\n",
    "            print('B')\n",
    "        elif score <= 1.0:\n",
    "            print('A')\n",
    "        else:\n",
    "            print('Bad score')\n",
    "            \n",
    "computescore(input('Enter score: '))"
   ]
  }
 ],
 "metadata": {
  "kernelspec": {
   "display_name": "Python 3",
   "language": "python",
   "name": "python3"
  },
  "language_info": {
   "codemirror_mode": {
    "name": "ipython",
    "version": 3
   },
   "file_extension": ".py",
   "mimetype": "text/x-python",
   "name": "python",
   "nbconvert_exporter": "python",
   "pygments_lexer": "ipython3",
   "version": "3.7.3"
  },
  "varInspector": {
   "cols": {
    "lenName": 16,
    "lenType": 16,
    "lenVar": 40
   },
   "kernels_config": {
    "python": {
     "delete_cmd_postfix": "",
     "delete_cmd_prefix": "del ",
     "library": "var_list.py",
     "varRefreshCmd": "print(var_dic_list())"
    },
    "r": {
     "delete_cmd_postfix": ") ",
     "delete_cmd_prefix": "rm(",
     "library": "var_list.r",
     "varRefreshCmd": "cat(var_dic_list()) "
    }
   },
   "types_to_exclude": [
    "module",
    "function",
    "builtin_function_or_method",
    "instance",
    "_Feature"
   ],
   "window_display": false
  }
 },
 "nbformat": 4,
 "nbformat_minor": 2
}
