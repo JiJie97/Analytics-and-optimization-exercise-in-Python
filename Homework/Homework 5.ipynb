{
 "cells": [
  {
   "cell_type": "markdown",
   "metadata": {},
   "source": [
    "# Homework 5\n",
    "\n",
    "**Name:** XXX"
   ]
  },
  {
   "cell_type": "markdown",
   "metadata": {},
   "source": [
    "## Q1. DMD Exercise 2.25\n",
    "\n",
    "Suppose 5 percent of the microchips produced by a leading microchip manufacturer are defective. Historically, given that a microchip is defective, the inspector (wrongly) accepts the chip 10 percent of the time, thinking it has no defect. If a microchip is not defective, he always correctly accepts it. Suppose that the inspector inspects 10 microchips.\n",
    "\n",
    "(a) What is the probability that all 10 microchips in the sample are not defective?\n",
    "\n",
    "(b) What is the probability that the inspector accepts a particular microchip?\n",
    "\n",
    "(c) What is the probability that the inspector accepts 9 (out of 10) microchips?\n",
    "\n",
    "(d) Given that the inspector accepts a microchip, what is the probability that it has no defect?\n",
    "\n",
    "(e) Given that inspector accepts all 10 microchips, what is the probability that they all have no defects?\n"
   ]
  },
  {
   "cell_type": "markdown",
   "metadata": {},
   "source": [
    "## Q2. DMD Exercise 2.27\n",
    "\n",
    "In this exercise we examine the effects of overbooking in the airline industry. Ontario Gateway Airlines' first class cabins have 10 seats in each plane. Ontario's overbooking policy is to sell up to 11 first class tickets, since cancellations and no-shows are always possible (and indeed are quite likely). For a given flight on Ontario Gateway, there were 11 first class tickets sold. Suppose that each of the 11 persons who purchased tickets has a 20 percent chance of not showing up for the flight, and that the events that different persons show up for the flight are independent.\n",
    "\n",
    "(a) What is the probability that at most 5 of the 11 persons who purchased first class tickets show up for the flight?\n",
    "\n",
    "(b) What is the probability that exactly 10 of the persons who purchased first class tickets show up for the flight?\n",
    "\n",
    "(c) Suppose that there are 10 seats in the first class available and that the cost of each first class ticket is 1,200 dollars. (This 1,200 contributes entirely to profit since the variable cost associated with a passenger on a flight is close to zero.) Suppose further that any overbooked seat costs the airline 3,000 dollars, which is the cost of the free ticket issued the passenger plus some potential cost in damanged customer relations. (First class passengers do not expect to be bumped!) Thus, for example, if 10 of the first class passengers show up for the flight, the airline's profit is 12,000. If 11 first class passengers show up, the profit is 9,000. What is the expected profit from first class passengers for this flight?\n",
    "\n",
    "(d) Suppose that only 10 first class tickets were sold. What would be the expected profit from first class passengers for this flight?\n",
    "\n",
    "(e) People often travel in groups of two or more. Does this affect the independence assumption about passenger behavior? Why or why not?\n"
   ]
  },
  {
   "cell_type": "markdown",
   "metadata": {},
   "source": [
    "## Q3. DMD Exercise 3.6\n",
    "Winter lasts from December 21 through March 21. The average winter temperature in Boston is Normally distributed with mean $\\mu=32.5$ Fahrenheit and standard deviation is $\\sigma=1.59$ Fahrenheit. In New York City, the average winter temperature is Normally distributed with mean $\\mu=35.4$ Fahrenheit and standard deviation $\\sigma=2.05$ Fahrenheit.\n",
    "\n",
    "(a) What is the probability that the average winter temperature in Boston this coming winter will be above freezing (32 degrees Fahrenheit)?\n",
    "\n",
    "(b) Assume that average winter temperatures in Boston and New York are independent. What is the probability that the average winter temperature in Boston in the coming winter will be higher than in New York?\n",
    "\n",
    "(c) Do you think the independence assumption above is reasonable?\n"
   ]
  },
  {
   "cell_type": "markdown",
   "metadata": {},
   "source": [
    "## Q4. DMD Exercise 3.20\n",
    "\n",
    "The paint department in an automobile factory applies two processes when painting cars: (i) painting and (ii) polishing. The painting process is defective 20\\% of the time, while the polishing process is defective 10\\% of the time. Each car first goes through the painting and then through the polishing process. Each car is inspected after it has completed the two processes. If either the painting or the polishing is defective, the car is returned to a special station for rework, where the two processes are applied once again. Rework at the special station is 100\\% reliable (although it is also very expensive).\n",
    "\n",
    "(a) What is the probability that a car is returned to the special station for rework?\n",
    "\n",
    "(b) In a batch of 1000 cars, what is the expected number of cars that will be returned for rework?\n",
    "\n",
    "(c) In a batch of 1000 cars, what is the probability that the number of returned cars is less than or equal to 200?\n",
    "\n",
    "(d) Let $X$ be the number of cars in a group by 1000 cars that have painting defects. Let $Y$ be the number of cars in a group of 1000 cars that have polishing defects. What is the distribution of $X$? What is the distribution of $Y$?\n",
    "\n",
    "(e) What is the probabiltiy that the total number of defects, $X+Y$, is less than or equal to 300?\n"
   ]
  },
  {
   "cell_type": "markdown",
   "metadata": {},
   "source": [
    "## Q5. Actuarial Science\n",
    "\n",
    "A life insurance company would like to conduct an analysis on its policy holders. The database shows that 60\\% of policyholders are male, and 40\\% are female. In this population, assume that the lifespan of a man obeys a Normal distribution with mean 75 years and standard deviation 15 years. (Lifespan is defined as the number of years from birth to death.) The lifespan of a woman obeys a Normal distribution with mean 80 and standard deviation 12 years.  All individuals’ lifespans are independent of one another.  \n",
    "\n",
    "**A.** What is the probability that a randomly drawn individual lives at least 85 years?"
   ]
  },
  {
   "cell_type": "markdown",
   "metadata": {},
   "source": [
    "**B.** Given that a randomly drawn individual lives at least 85 years, what is the probability that the individual is male?"
   ]
  },
  {
   "cell_type": "markdown",
   "metadata": {},
   "source": [
    "**C.** Given that a randomly drawn individual lives at least 85 years, what is the probability that the individual lives at least 5 more years?"
   ]
  },
  {
   "cell_type": "markdown",
   "metadata": {},
   "source": [
    "## Q6. Simulating Distribution of Daily Earnings at Rockport\n",
    "\n",
    "In this exercise, you will use the `scipy.stats` package and `np.random.choice` function to generate normal and general discrete samples, in order to plot the shape of the probability distributions of the daily earnings from using Rockport in the example in DMD 5.1 (from pre-class readings). Simulate 10000 samples and plot the frequency instead of the density. You should also include the proper titles and labels of the x and y axis. Write your code in the code cell below (a correct sample graph is below).\n",
    "\n",
    "**Hints:**\n",
    "See page 196-197 in DMD for description of the distribution. It has the form $price*min(demand,3500)-10000$, where price is normally distributed with mean $\\mu = 3.65$ and standard deviation of $\\sigma=0.2$, demand follows a discrete distribution, as in the following table. You should make the price zero whenever you get a negative sample.\n",
    "\n",
    "| Demand (lbs of codfish) | Probability |\n",
    "|--|--|\n",
    "|0 | 0.02|\n",
    "|1000|0.03|\n",
    "|2000|0.05|\n",
    "|3000|0.08|\n",
    "|4000|0.33|\n",
    "|5000|0.29|\n",
    "|6000|0.20|\n",
    "\n"
   ]
  },
  {
   "cell_type": "code",
   "execution_count": 2,
   "metadata": {},
   "outputs": [
    {
     "data": {
      "image/png": "[encoded data removed]",
      "text/plain": [
       "<Figure size 432x288 with 1 Axes>"
      ]
     },
     "metadata": {
      "needs_background": "light"
     },
     "output_type": "display_data"
    }
   ],
   "source": []
  }
 ],
 "metadata": {
  "kernelspec": {
   "display_name": "Python 3",
   "language": "python",
   "name": "python3"
  },
  "language_info": {
   "codemirror_mode": {
    "name": "ipython",
    "version": 3
   },
   "file_extension": ".py",
   "mimetype": "text/x-python",
   "name": "python",
   "nbconvert_exporter": "python",
   "pygments_lexer": "ipython3",
   "version": "3.7.6"
  },
  "varInspector": {
   "cols": {
    "lenName": 16,
    "lenType": 16,
    "lenVar": 40
   },
   "kernels_config": {
    "python": {
     "delete_cmd_postfix": "",
     "delete_cmd_prefix": "del ",
     "library": "var_list.py",
     "varRefreshCmd": "print(var_dic_list())"
    },
    "r": {
     "delete_cmd_postfix": ") ",
     "delete_cmd_prefix": "rm(",
     "library": "var_list.r",
     "varRefreshCmd": "cat(var_dic_list()) "
    }
   },
   "types_to_exclude": [
    "module",
    "function",
    "builtin_function_or_method",
    "instance",
    "_Feature"
   ],
   "window_display": false
  }
 },
 "nbformat": 4,
 "nbformat_minor": 2
}
